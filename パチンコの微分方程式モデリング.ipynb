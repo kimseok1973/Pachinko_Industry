{
 "cells": [
  {
   "cell_type": "markdown",
   "id": "02395b01",
   "metadata": {},
   "source": [
    "　ModelingToolkitやTuringなどのJuliaの道具がマーケティング的な発想と分析にどのように活用できるのかを試し、多くの人に利用してもらうことでユーザーの幅を広げることを目的としている。パッケージの詳細についてはそれぞれのマニュアルを参照されたい。ModelingToolkitは「微分方程式を記号的に扱う」パッケージで、TuringはMCMCという乱数発生アルゴリズムを利用し「パラメータを推定するパッケージ」という程度の理解でよい。"
   ]
  },
  {
   "cell_type": "markdown",
   "id": "23a9ea5c",
   "metadata": {},
   "source": [
    "私の興味は産業の隆盛（ブーム）と衰退のメカニズムであり、ここでは具体例として「パチンコ」を取り上げる。1993年以降のパチンコユーザー調査を利用する。データは日本生産性本部の「レジャー白書」を参照している。"
   ]
  },
  {
   "cell_type": "code",
   "execution_count": 1,
   "id": "d75cf910",
   "metadata": {},
   "outputs": [],
   "source": [
    "using CSV,StatsPlots,DataFrames"
   ]
  },
  {
   "cell_type": "code",
   "execution_count": 5,
   "id": "c0b2ab81",
   "metadata": {},
   "outputs": [],
   "source": [
    "cd(\"C:\\\\Users\\\\kimse\\\\OneDrive\\\\Jupyter_notebook\\\\パチンコの微分方程式モデリング\")"
   ]
  },
  {
   "cell_type": "code",
   "execution_count": 11,
   "id": "e9500dd2",
   "metadata": {},
   "outputs": [
    {
     "data": {
      "text/html": [
       "<div><div style = \"float: left;\"><span>27×3 DataFrame</span></div><div style = \"float: right;\"><span style = \"font-style: italic;\">2 rows omitted</span></div><div style = \"clear: both;\"></div></div><div class = \"data-frame\" style = \"overflow-x: scroll;\"><table class = \"data-frame\" style = \"margin-bottom: 6px;\"><thead><tr class = \"header\"><th class = \"rowNumber\" style = \"font-weight: bold; text-align: right;\">Row</th><th style = \"text-align: left;\">Year</th><th style = \"text-align: left;\">P_USER</th><th style = \"text-align: left;\">V_PEOPLE</th></tr><tr class = \"subheader headerLastRow\"><th class = \"rowNumber\" style = \"font-weight: bold; text-align: right;\"></th><th title = \"Int64\" style = \"text-align: left;\">Int64</th><th title = \"Int64\" style = \"text-align: left;\">Int64</th><th title = \"Int64\" style = \"text-align: left;\">Int64</th></tr></thead><tbody><tr><td class = \"rowNumber\" style = \"font-weight: bold; text-align: right;\">1</td><td style = \"text-align: right;\">1994</td><td style = \"text-align: right;\">29300</td><td style = \"text-align: right;\">125265</td></tr><tr><td class = \"rowNumber\" style = \"font-weight: bold; text-align: right;\">2</td><td style = \"text-align: right;\">1995</td><td style = \"text-align: right;\">29000</td><td style = \"text-align: right;\">125570</td></tr><tr><td class = \"rowNumber\" style = \"font-weight: bold; text-align: right;\">3</td><td style = \"text-align: right;\">1996</td><td style = \"text-align: right;\">27600</td><td style = \"text-align: right;\">125859</td></tr><tr><td class = \"rowNumber\" style = \"font-weight: bold; text-align: right;\">4</td><td style = \"text-align: right;\">1997</td><td style = \"text-align: right;\">23100</td><td style = \"text-align: right;\">126157</td></tr><tr><td class = \"rowNumber\" style = \"font-weight: bold; text-align: right;\">5</td><td style = \"text-align: right;\">1998</td><td style = \"text-align: right;\">19800</td><td style = \"text-align: right;\">126472</td></tr><tr><td class = \"rowNumber\" style = \"font-weight: bold; text-align: right;\">6</td><td style = \"text-align: right;\">1999</td><td style = \"text-align: right;\">18600</td><td style = \"text-align: right;\">126667</td></tr><tr><td class = \"rowNumber\" style = \"font-weight: bold; text-align: right;\">7</td><td style = \"text-align: right;\">2000</td><td style = \"text-align: right;\">20200</td><td style = \"text-align: right;\">126926</td></tr><tr><td class = \"rowNumber\" style = \"font-weight: bold; text-align: right;\">8</td><td style = \"text-align: right;\">2001</td><td style = \"text-align: right;\">19300</td><td style = \"text-align: right;\">126926</td></tr><tr><td class = \"rowNumber\" style = \"font-weight: bold; text-align: right;\">9</td><td style = \"text-align: right;\">2002</td><td style = \"text-align: right;\">21700</td><td style = \"text-align: right;\">127316</td></tr><tr><td class = \"rowNumber\" style = \"font-weight: bold; text-align: right;\">10</td><td style = \"text-align: right;\">2003</td><td style = \"text-align: right;\">17400</td><td style = \"text-align: right;\">127486</td></tr><tr><td class = \"rowNumber\" style = \"font-weight: bold; text-align: right;\">11</td><td style = \"text-align: right;\">2004</td><td style = \"text-align: right;\">17900</td><td style = \"text-align: right;\">127694</td></tr><tr><td class = \"rowNumber\" style = \"font-weight: bold; text-align: right;\">12</td><td style = \"text-align: right;\">2005</td><td style = \"text-align: right;\">17100</td><td style = \"text-align: right;\">127787</td></tr><tr><td class = \"rowNumber\" style = \"font-weight: bold; text-align: right;\">13</td><td style = \"text-align: right;\">2006</td><td style = \"text-align: right;\">16600</td><td style = \"text-align: right;\">127768</td></tr><tr><td style = \"text-align: right;\">&vellip;</td><td style = \"text-align: right;\">&vellip;</td><td style = \"text-align: right;\">&vellip;</td><td style = \"text-align: right;\">&vellip;</td></tr><tr><td class = \"rowNumber\" style = \"font-weight: bold; text-align: right;\">16</td><td style = \"text-align: right;\">2009</td><td style = \"text-align: right;\">17200</td><td style = \"text-align: right;\">128084</td></tr><tr><td class = \"rowNumber\" style = \"font-weight: bold; text-align: right;\">17</td><td style = \"text-align: right;\">2010</td><td style = \"text-align: right;\">16790</td><td style = \"text-align: right;\">128032</td></tr><tr><td class = \"rowNumber\" style = \"font-weight: bold; text-align: right;\">18</td><td style = \"text-align: right;\">2011</td><td style = \"text-align: right;\">12600</td><td style = \"text-align: right;\">128057</td></tr><tr><td class = \"rowNumber\" style = \"font-weight: bold; text-align: right;\">19</td><td style = \"text-align: right;\">2012</td><td style = \"text-align: right;\">11100</td><td style = \"text-align: right;\">127834</td></tr><tr><td class = \"rowNumber\" style = \"font-weight: bold; text-align: right;\">20</td><td style = \"text-align: right;\">2013</td><td style = \"text-align: right;\">9700</td><td style = \"text-align: right;\">127593</td></tr><tr><td class = \"rowNumber\" style = \"font-weight: bold; text-align: right;\">21</td><td style = \"text-align: right;\">2014</td><td style = \"text-align: right;\">11500</td><td style = \"text-align: right;\">127414</td></tr><tr><td class = \"rowNumber\" style = \"font-weight: bold; text-align: right;\">22</td><td style = \"text-align: right;\">2015</td><td style = \"text-align: right;\">10700</td><td style = \"text-align: right;\">127237</td></tr><tr><td class = \"rowNumber\" style = \"font-weight: bold; text-align: right;\">23</td><td style = \"text-align: right;\">2016</td><td style = \"text-align: right;\">9400</td><td style = \"text-align: right;\">127095</td></tr><tr><td class = \"rowNumber\" style = \"font-weight: bold; text-align: right;\">24</td><td style = \"text-align: right;\">2017</td><td style = \"text-align: right;\">9000</td><td style = \"text-align: right;\">126933</td></tr><tr><td class = \"rowNumber\" style = \"font-weight: bold; text-align: right;\">25</td><td style = \"text-align: right;\">2018</td><td style = \"text-align: right;\">9500</td><td style = \"text-align: right;\">126706</td></tr><tr><td class = \"rowNumber\" style = \"font-weight: bold; text-align: right;\">26</td><td style = \"text-align: right;\">2019</td><td style = \"text-align: right;\">8900</td><td style = \"text-align: right;\">126443</td></tr><tr><td class = \"rowNumber\" style = \"font-weight: bold; text-align: right;\">27</td><td style = \"text-align: right;\">2020</td><td style = \"text-align: right;\">7100</td><td style = \"text-align: right;\">126227</td></tr></tbody></table></div>"
      ],
      "text/latex": [
       "\\begin{tabular}{r|ccc}\n",
       "\t& Year & P\\_USER & V\\_PEOPLE\\\\\n",
       "\t\\hline\n",
       "\t& Int64 & Int64 & Int64\\\\\n",
       "\t\\hline\n",
       "\t1 & 1994 & 29300 & 125265 \\\\\n",
       "\t2 & 1995 & 29000 & 125570 \\\\\n",
       "\t3 & 1996 & 27600 & 125859 \\\\\n",
       "\t4 & 1997 & 23100 & 126157 \\\\\n",
       "\t5 & 1998 & 19800 & 126472 \\\\\n",
       "\t6 & 1999 & 18600 & 126667 \\\\\n",
       "\t7 & 2000 & 20200 & 126926 \\\\\n",
       "\t8 & 2001 & 19300 & 126926 \\\\\n",
       "\t9 & 2002 & 21700 & 127316 \\\\\n",
       "\t10 & 2003 & 17400 & 127486 \\\\\n",
       "\t11 & 2004 & 17900 & 127694 \\\\\n",
       "\t12 & 2005 & 17100 & 127787 \\\\\n",
       "\t13 & 2006 & 16600 & 127768 \\\\\n",
       "\t14 & 2007 & 14500 & 127901 \\\\\n",
       "\t15 & 2008 & 15800 & 128033 \\\\\n",
       "\t16 & 2009 & 17200 & 128084 \\\\\n",
       "\t17 & 2010 & 16790 & 128032 \\\\\n",
       "\t18 & 2011 & 12600 & 128057 \\\\\n",
       "\t19 & 2012 & 11100 & 127834 \\\\\n",
       "\t20 & 2013 & 9700 & 127593 \\\\\n",
       "\t21 & 2014 & 11500 & 127414 \\\\\n",
       "\t22 & 2015 & 10700 & 127237 \\\\\n",
       "\t23 & 2016 & 9400 & 127095 \\\\\n",
       "\t24 & 2017 & 9000 & 126933 \\\\\n",
       "\t25 & 2018 & 9500 & 126706 \\\\\n",
       "\t26 & 2019 & 8900 & 126443 \\\\\n",
       "\t27 & 2020 & 7100 & 126227 \\\\\n",
       "\\end{tabular}\n"
      ],
      "text/plain": [
       "\u001b[1m27×3 DataFrame\u001b[0m\n",
       "\u001b[1m Row \u001b[0m│\u001b[1m Year  \u001b[0m\u001b[1m P_USER \u001b[0m\u001b[1m V_PEOPLE \u001b[0m\n",
       "     │\u001b[90m Int64 \u001b[0m\u001b[90m Int64  \u001b[0m\u001b[90m Int64    \u001b[0m\n",
       "─────┼─────────────────────────\n",
       "   1 │  1994   29300    125265\n",
       "   2 │  1995   29000    125570\n",
       "   3 │  1996   27600    125859\n",
       "   4 │  1997   23100    126157\n",
       "   5 │  1998   19800    126472\n",
       "   6 │  1999   18600    126667\n",
       "   7 │  2000   20200    126926\n",
       "   8 │  2001   19300    126926\n",
       "   9 │  2002   21700    127316\n",
       "  10 │  2003   17400    127486\n",
       "  11 │  2004   17900    127694\n",
       "  ⋮  │   ⋮      ⋮        ⋮\n",
       "  18 │  2011   12600    128057\n",
       "  19 │  2012   11100    127834\n",
       "  20 │  2013    9700    127593\n",
       "  21 │  2014   11500    127414\n",
       "  22 │  2015   10700    127237\n",
       "  23 │  2016    9400    127095\n",
       "  24 │  2017    9000    126933\n",
       "  25 │  2018    9500    126706\n",
       "  26 │  2019    8900    126443\n",
       "  27 │  2020    7100    126227\n",
       "\u001b[36m                 6 rows omitted\u001b[0m"
      ]
     },
     "execution_count": 11,
     "metadata": {},
     "output_type": "execute_result"
    }
   ],
   "source": [
    "df = CSV.read(\"pdata.csv\", DataFrame)"
   ]
  },
  {
   "cell_type": "markdown",
   "id": "32bb8add",
   "metadata": {},
   "source": [
    "1994年のプレイヤー人口2930万から持続的に減少し2016年以降は1000万以下が常態となっている。プレイヤーの減少はどこまで続くのだろうか？"
   ]
  },
  {
   "cell_type": "code",
   "execution_count": 18,
   "id": "cec07b66",
   "metadata": {},
   "outputs": [
    {
     "data": {
      "image/png": "[encoded data removed]",
      "image/svg+xml": [
       "<?xml version=\"1.0\" encoding=\"utf-8\"?>\n",
       "<svg xmlns=\"http://www.w3.org/2000/svg\" xmlns:xlink=\"http://www.w3.org/1999/xlink\" width=\"600\" height=\"400\" viewBox=\"0 0 2400 1600\">\n",
       "<defs>\n",
       "  <clipPath id=\"clip780\">\n",
       "    <rect x=\"0\" y=\"0\" width=\"2400\" height=\"1600\"/>\n",
       "  </clipPath>\n",
       "</defs>\n",
       "<path clip-path=\"url(#clip780)\" d=\"M0 1600 L2400 1600 L2400 0 L0 0  Z\" fill=\"#ffffff\" fill-rule=\"evenodd\" fill-opacity=\"1\"/>\n",
       "<defs>\n",
       "  <clipPath id=\"clip781\">\n",
       "    <rect x=\"480\" y=\"0\" width=\"1681\" height=\"1600\"/>\n",
       "  </clipPath>\n",
       "</defs>\n",
       "<path clip-path=\"url(#clip780)\" d=\"M306.435 1486.45 L2352.76 1486.45 L2352.76 47.2441 L306.435 47.2441  Z\" fill=\"#ffffff\" fill-rule=\"evenodd\" fill-opacity=\"1\"/>\n",
       "<defs>\n",
       "  <clipPath id=\"clip782\">\n",
       "    <rect x=\"306\" y=\"47\" width=\"2047\" height=\"1440\"/>\n",
       "  </clipPath>\n",
       "</defs>\n",
       "<polyline clip-path=\"url(#clip782)\" style=\"stroke:#000000; stroke-linecap:round; stroke-linejoin:round; stroke-width:2; stroke-opacity:0.1; fill:none\" points=\"438.6,1486.45 438.6,47.2441 \"/>\n",
       "<polyline clip-path=\"url(#clip782)\" style=\"stroke:#000000; stroke-linecap:round; stroke-linejoin:round; stroke-width:2; stroke-opacity:0.1; fill:none\" points=\"809.848,1486.45 809.848,47.2441 \"/>\n",
       "<polyline clip-path=\"url(#clip782)\" style=\"stroke:#000000; stroke-linecap:round; stroke-linejoin:round; stroke-width:2; stroke-opacity:0.1; fill:none\" points=\"1181.1,1486.45 1181.1,47.2441 \"/>\n",
       "<polyline clip-path=\"url(#clip782)\" style=\"stroke:#000000; stroke-linecap:round; stroke-linejoin:round; stroke-width:2; stroke-opacity:0.1; fill:none\" points=\"1552.34,1486.45 1552.34,47.2441 \"/>\n",
       "<polyline clip-path=\"url(#clip782)\" style=\"stroke:#000000; stroke-linecap:round; stroke-linejoin:round; stroke-width:2; stroke-opacity:0.1; fill:none\" points=\"1923.59,1486.45 1923.59,47.2441 \"/>\n",
       "<polyline clip-path=\"url(#clip782)\" style=\"stroke:#000000; stroke-linecap:round; stroke-linejoin:round; stroke-width:2; stroke-opacity:0.1; fill:none\" points=\"2294.84,1486.45 2294.84,47.2441 \"/>\n",
       "<polyline clip-path=\"url(#clip780)\" style=\"stroke:#000000; stroke-linecap:round; stroke-linejoin:round; stroke-width:4; stroke-opacity:1; fill:none\" points=\"306.435,1486.45 2352.76,1486.45 \"/>\n",
       "<polyline clip-path=\"url(#clip780)\" style=\"stroke:#000000; stroke-linecap:round; stroke-linejoin:round; stroke-width:4; stroke-opacity:1; fill:none\" points=\"438.6,1486.45 438.6,1467.55 \"/>\n",
       "<polyline clip-path=\"url(#clip780)\" style=\"stroke:#000000; stroke-linecap:round; stroke-linejoin:round; stroke-width:4; stroke-opacity:1; fill:none\" points=\"809.848,1486.45 809.848,1467.55 \"/>\n",
       "<polyline clip-path=\"url(#clip780)\" style=\"stroke:#000000; stroke-linecap:round; stroke-linejoin:round; stroke-width:4; stroke-opacity:1; fill:none\" points=\"1181.1,1486.45 1181.1,1467.55 \"/>\n",
       "<polyline clip-path=\"url(#clip780)\" style=\"stroke:#000000; stroke-linecap:round; stroke-linejoin:round; stroke-width:4; stroke-opacity:1; fill:none\" points=\"1552.34,1486.45 1552.34,1467.55 \"/>\n",
       "<polyline clip-path=\"url(#clip780)\" style=\"stroke:#000000; stroke-linecap:round; stroke-linejoin:round; stroke-width:4; stroke-opacity:1; fill:none\" points=\"1923.59,1486.45 1923.59,1467.55 \"/>\n",
       "<polyline clip-path=\"url(#clip780)\" style=\"stroke:#000000; stroke-linecap:round; stroke-linejoin:round; stroke-width:4; stroke-opacity:1; fill:none\" points=\"2294.84,1486.45 2294.84,1467.55 \"/>\n",
       "<path clip-path=\"url(#clip780)\" d=\"M383.623 1544.91 L391.262 1544.91 L391.262 1518.55 L382.952 1520.21 L382.952 1515.95 L391.216 1514.29 L395.892 1514.29 L395.892 1544.91 L403.531 1544.91 L403.531 1548.85 L383.623 1548.85 L383.623 1544.91 Z\" fill=\"#000000\" fill-rule=\"nonzero\" fill-opacity=\"1\" /><path clip-path=\"url(#clip780)\" d=\"M413.114 1548.13 L413.114 1543.87 Q414.873 1544.7 416.679 1545.14 Q418.484 1545.58 420.22 1545.58 Q424.85 1545.58 427.28 1542.48 Q429.734 1539.36 430.081 1533.01 Q428.739 1535.01 426.679 1536.07 Q424.618 1537.13 422.118 1537.13 Q416.933 1537.13 413.901 1534.01 Q410.892 1530.86 410.892 1525.42 Q410.892 1520.1 414.04 1516.88 Q417.188 1513.66 422.419 1513.66 Q428.415 1513.66 431.563 1518.27 Q434.734 1522.85 434.734 1531.6 Q434.734 1539.77 430.845 1544.66 Q426.979 1549.52 420.429 1549.52 Q418.669 1549.52 416.864 1549.17 Q415.058 1548.82 413.114 1548.13 M422.419 1533.48 Q425.567 1533.48 427.396 1531.32 Q429.248 1529.17 429.248 1525.42 Q429.248 1521.7 427.396 1519.54 Q425.567 1517.37 422.419 1517.37 Q419.271 1517.37 417.419 1519.54 Q415.591 1521.7 415.591 1525.42 Q415.591 1529.17 417.419 1531.32 Q419.271 1533.48 422.419 1533.48 Z\" fill=\"#000000\" fill-rule=\"nonzero\" fill-opacity=\"1\" /><path clip-path=\"url(#clip780)\" d=\"M443.276 1548.13 L443.276 1543.87 Q445.035 1544.7 446.84 1545.14 Q448.646 1545.58 450.382 1545.58 Q455.012 1545.58 457.442 1542.48 Q459.896 1539.36 460.243 1533.01 Q458.901 1535.01 456.84 1536.07 Q454.78 1537.13 452.28 1537.13 Q447.095 1537.13 444.063 1534.01 Q441.053 1530.86 441.053 1525.42 Q441.053 1520.1 444.202 1516.88 Q447.35 1513.66 452.581 1513.66 Q458.577 1513.66 461.725 1518.27 Q464.896 1522.85 464.896 1531.6 Q464.896 1539.77 461.007 1544.66 Q457.141 1549.52 450.59 1549.52 Q448.831 1549.52 447.026 1549.17 Q445.22 1548.82 443.276 1548.13 M452.581 1533.48 Q455.729 1533.48 457.558 1531.32 Q459.41 1529.17 459.41 1525.42 Q459.41 1521.7 457.558 1519.54 Q455.729 1517.37 452.581 1517.37 Q449.433 1517.37 447.581 1519.54 Q445.753 1521.7 445.753 1525.42 Q445.753 1529.17 447.581 1531.32 Q449.433 1533.48 452.581 1533.48 Z\" fill=\"#000000\" fill-rule=\"nonzero\" fill-opacity=\"1\" /><path clip-path=\"url(#clip780)\" d=\"M473.345 1514.29 L491.701 1514.29 L491.701 1518.22 L477.627 1518.22 L477.627 1526.7 Q478.646 1526.35 479.664 1526.19 Q480.683 1526 481.701 1526 Q487.488 1526 490.868 1529.17 Q494.248 1532.34 494.248 1537.76 Q494.248 1543.34 490.775 1546.44 Q487.303 1549.52 480.984 1549.52 Q478.808 1549.52 476.539 1549.15 Q474.294 1548.78 471.887 1548.04 L471.887 1543.34 Q473.97 1544.47 476.192 1545.03 Q478.414 1545.58 480.891 1545.58 Q484.896 1545.58 487.234 1543.48 Q489.572 1541.37 489.572 1537.76 Q489.572 1534.15 487.234 1532.04 Q484.896 1529.94 480.891 1529.94 Q479.016 1529.94 477.141 1530.35 Q475.289 1530.77 473.345 1531.65 L473.345 1514.29 Z\" fill=\"#000000\" fill-rule=\"nonzero\" fill-opacity=\"1\" /><path clip-path=\"url(#clip780)\" d=\"M758.459 1544.91 L774.779 1544.91 L774.779 1548.85 L752.834 1548.85 L752.834 1544.91 Q755.496 1542.16 760.08 1537.53 Q764.686 1532.88 765.867 1531.53 Q768.112 1529.01 768.992 1527.27 Q769.895 1525.51 769.895 1523.82 Q769.895 1521.07 767.95 1519.33 Q766.029 1517.6 762.927 1517.6 Q760.728 1517.6 758.274 1518.36 Q755.844 1519.13 753.066 1520.68 L753.066 1515.95 Q755.89 1514.82 758.344 1514.24 Q760.797 1513.66 762.834 1513.66 Q768.205 1513.66 771.399 1516.35 Q774.594 1519.03 774.594 1523.52 Q774.594 1525.65 773.783 1527.57 Q772.996 1529.47 770.89 1532.07 Q770.311 1532.74 767.209 1535.95 Q764.108 1539.15 758.459 1544.91 Z\" fill=\"#000000\" fill-rule=\"nonzero\" fill-opacity=\"1\" /><path clip-path=\"url(#clip780)\" d=\"M794.594 1517.37 Q790.982 1517.37 789.154 1520.93 Q787.348 1524.47 787.348 1531.6 Q787.348 1538.71 789.154 1542.27 Q790.982 1545.82 794.594 1545.82 Q798.228 1545.82 800.033 1542.27 Q801.862 1538.71 801.862 1531.6 Q801.862 1524.47 800.033 1520.93 Q798.228 1517.37 794.594 1517.37 M794.594 1513.66 Q800.404 1513.66 803.459 1518.27 Q806.538 1522.85 806.538 1531.6 Q806.538 1540.33 803.459 1544.94 Q800.404 1549.52 794.594 1549.52 Q788.783 1549.52 785.705 1544.94 Q782.649 1540.33 782.649 1531.6 Q782.649 1522.85 785.705 1518.27 Q788.783 1513.66 794.594 1513.66 Z\" fill=\"#000000\" fill-rule=\"nonzero\" fill-opacity=\"1\" /><path clip-path=\"url(#clip780)\" d=\"M824.755 1517.37 Q821.144 1517.37 819.316 1520.93 Q817.51 1524.47 817.51 1531.6 Q817.51 1538.71 819.316 1542.27 Q821.144 1545.82 824.755 1545.82 Q828.39 1545.82 830.195 1542.27 Q832.024 1538.71 832.024 1531.6 Q832.024 1524.47 830.195 1520.93 Q828.39 1517.37 824.755 1517.37 M824.755 1513.66 Q830.566 1513.66 833.621 1518.27 Q836.7 1522.85 836.7 1531.6 Q836.7 1540.33 833.621 1544.94 Q830.566 1549.52 824.755 1549.52 Q818.945 1549.52 815.867 1544.94 Q812.811 1540.33 812.811 1531.6 Q812.811 1522.85 815.867 1518.27 Q818.945 1513.66 824.755 1513.66 Z\" fill=\"#000000\" fill-rule=\"nonzero\" fill-opacity=\"1\" /><path clip-path=\"url(#clip780)\" d=\"M854.917 1517.37 Q851.306 1517.37 849.477 1520.93 Q847.672 1524.47 847.672 1531.6 Q847.672 1538.71 849.477 1542.27 Q851.306 1545.82 854.917 1545.82 Q858.552 1545.82 860.357 1542.27 Q862.186 1538.71 862.186 1531.6 Q862.186 1524.47 860.357 1520.93 Q858.552 1517.37 854.917 1517.37 M854.917 1513.66 Q860.727 1513.66 863.783 1518.27 Q866.862 1522.85 866.862 1531.6 Q866.862 1540.33 863.783 1544.94 Q860.727 1549.52 854.917 1549.52 Q849.107 1549.52 846.028 1544.94 Q842.973 1540.33 842.973 1531.6 Q842.973 1522.85 846.028 1518.27 Q849.107 1513.66 854.917 1513.66 Z\" fill=\"#000000\" fill-rule=\"nonzero\" fill-opacity=\"1\" /><path clip-path=\"url(#clip780)\" d=\"M1130.21 1544.91 L1146.52 1544.91 L1146.52 1548.85 L1124.58 1548.85 L1124.58 1544.91 Q1127.24 1542.16 1131.83 1537.53 Q1136.43 1532.88 1137.61 1531.53 Q1139.86 1529.01 1140.74 1527.27 Q1141.64 1525.51 1141.64 1523.82 Q1141.64 1521.07 1139.7 1519.33 Q1137.77 1517.6 1134.67 1517.6 Q1132.47 1517.6 1130.02 1518.36 Q1127.59 1519.13 1124.81 1520.68 L1124.81 1515.95 Q1127.64 1514.82 1130.09 1514.24 Q1132.54 1513.66 1134.58 1513.66 Q1139.95 1513.66 1143.15 1516.35 Q1146.34 1519.03 1146.34 1523.52 Q1146.34 1525.65 1145.53 1527.57 Q1144.74 1529.47 1142.64 1532.07 Q1142.06 1532.74 1138.96 1535.95 Q1135.85 1539.15 1130.21 1544.91 Z\" fill=\"#000000\" fill-rule=\"nonzero\" fill-opacity=\"1\" /><path clip-path=\"url(#clip780)\" d=\"M1166.34 1517.37 Q1162.73 1517.37 1160.9 1520.93 Q1159.09 1524.47 1159.09 1531.6 Q1159.09 1538.71 1160.9 1542.27 Q1162.73 1545.82 1166.34 1545.82 Q1169.97 1545.82 1171.78 1542.27 Q1173.61 1538.71 1173.61 1531.6 Q1173.61 1524.47 1171.78 1520.93 Q1169.97 1517.37 1166.34 1517.37 M1166.34 1513.66 Q1172.15 1513.66 1175.21 1518.27 Q1178.28 1522.85 1178.28 1531.6 Q1178.28 1540.33 1175.21 1544.94 Q1172.15 1549.52 1166.34 1549.52 Q1160.53 1549.52 1157.45 1544.94 Q1154.4 1540.33 1154.4 1531.6 Q1154.4 1522.85 1157.45 1518.27 Q1160.53 1513.66 1166.34 1513.66 Z\" fill=\"#000000\" fill-rule=\"nonzero\" fill-opacity=\"1\" /><path clip-path=\"url(#clip780)\" d=\"M1196.5 1517.37 Q1192.89 1517.37 1191.06 1520.93 Q1189.26 1524.47 1189.26 1531.6 Q1189.26 1538.71 1191.06 1542.27 Q1192.89 1545.82 1196.5 1545.82 Q1200.14 1545.82 1201.94 1542.27 Q1203.77 1538.71 1203.77 1531.6 Q1203.77 1524.47 1201.94 1520.93 Q1200.14 1517.37 1196.5 1517.37 M1196.5 1513.66 Q1202.31 1513.66 1205.37 1518.27 Q1208.45 1522.85 1208.45 1531.6 Q1208.45 1540.33 1205.37 1544.94 Q1202.31 1549.52 1196.5 1549.52 Q1190.69 1549.52 1187.61 1544.94 Q1184.56 1540.33 1184.56 1531.6 Q1184.56 1522.85 1187.61 1518.27 Q1190.69 1513.66 1196.5 1513.66 Z\" fill=\"#000000\" fill-rule=\"nonzero\" fill-opacity=\"1\" /><path clip-path=\"url(#clip780)\" d=\"M1216.71 1514.29 L1235.07 1514.29 L1235.07 1518.22 L1220.99 1518.22 L1220.99 1526.7 Q1222.01 1526.35 1223.03 1526.19 Q1224.05 1526 1225.07 1526 Q1230.85 1526 1234.23 1529.17 Q1237.61 1532.34 1237.61 1537.76 Q1237.61 1543.34 1234.14 1546.44 Q1230.67 1549.52 1224.35 1549.52 Q1222.17 1549.52 1219.9 1549.15 Q1217.66 1548.78 1215.25 1548.04 L1215.25 1543.34 Q1217.33 1544.47 1219.56 1545.03 Q1221.78 1545.58 1224.26 1545.58 Q1228.26 1545.58 1230.6 1543.48 Q1232.94 1541.37 1232.94 1537.76 Q1232.94 1534.15 1230.6 1532.04 Q1228.26 1529.94 1224.26 1529.94 Q1222.38 1529.94 1220.51 1530.35 Q1218.65 1530.77 1216.71 1531.65 L1216.71 1514.29 Z\" fill=\"#000000\" fill-rule=\"nonzero\" fill-opacity=\"1\" /><path clip-path=\"url(#clip780)\" d=\"M1500.96 1544.91 L1517.28 1544.91 L1517.28 1548.85 L1495.33 1548.85 L1495.33 1544.91 Q1497.99 1542.16 1502.58 1537.53 Q1507.18 1532.88 1508.36 1531.53 Q1510.61 1529.01 1511.49 1527.27 Q1512.39 1525.51 1512.39 1523.82 Q1512.39 1521.07 1510.45 1519.33 Q1508.53 1517.6 1505.42 1517.6 Q1503.22 1517.6 1500.77 1518.36 Q1498.34 1519.13 1495.56 1520.68 L1495.56 1515.95 Q1498.39 1514.82 1500.84 1514.24 Q1503.29 1513.66 1505.33 1513.66 Q1510.7 1513.66 1513.9 1516.35 Q1517.09 1519.03 1517.09 1523.52 Q1517.09 1525.65 1516.28 1527.57 Q1515.49 1529.47 1513.39 1532.07 Q1512.81 1532.74 1509.71 1535.95 Q1506.6 1539.15 1500.96 1544.91 Z\" fill=\"#000000\" fill-rule=\"nonzero\" fill-opacity=\"1\" /><path clip-path=\"url(#clip780)\" d=\"M1537.09 1517.37 Q1533.48 1517.37 1531.65 1520.93 Q1529.84 1524.47 1529.84 1531.6 Q1529.84 1538.71 1531.65 1542.27 Q1533.48 1545.82 1537.09 1545.82 Q1540.72 1545.82 1542.53 1542.27 Q1544.36 1538.71 1544.36 1531.6 Q1544.36 1524.47 1542.53 1520.93 Q1540.72 1517.37 1537.09 1517.37 M1537.09 1513.66 Q1542.9 1513.66 1545.96 1518.27 Q1549.03 1522.85 1549.03 1531.6 Q1549.03 1540.33 1545.96 1544.94 Q1542.9 1549.52 1537.09 1549.52 Q1531.28 1549.52 1528.2 1544.94 Q1525.15 1540.33 1525.15 1531.6 Q1525.15 1522.85 1528.2 1518.27 Q1531.28 1513.66 1537.09 1513.66 Z\" fill=\"#000000\" fill-rule=\"nonzero\" fill-opacity=\"1\" /><path clip-path=\"url(#clip780)\" d=\"M1558.06 1544.91 L1565.7 1544.91 L1565.7 1518.55 L1557.39 1520.21 L1557.39 1515.95 L1565.65 1514.29 L1570.33 1514.29 L1570.33 1544.91 L1577.97 1544.91 L1577.97 1548.85 L1558.06 1548.85 L1558.06 1544.91 Z\" fill=\"#000000\" fill-rule=\"nonzero\" fill-opacity=\"1\" /><path clip-path=\"url(#clip780)\" d=\"M1597.41 1517.37 Q1593.8 1517.37 1591.97 1520.93 Q1590.17 1524.47 1590.17 1531.6 Q1590.17 1538.71 1591.97 1542.27 Q1593.8 1545.82 1597.41 1545.82 Q1601.05 1545.82 1602.85 1542.27 Q1604.68 1538.71 1604.68 1531.6 Q1604.68 1524.47 1602.85 1520.93 Q1601.05 1517.37 1597.41 1517.37 M1597.41 1513.66 Q1603.22 1513.66 1606.28 1518.27 Q1609.36 1522.85 1609.36 1531.6 Q1609.36 1540.33 1606.28 1544.94 Q1603.22 1549.52 1597.41 1549.52 Q1591.6 1549.52 1588.52 1544.94 Q1585.47 1540.33 1585.47 1531.6 Q1585.47 1522.85 1588.52 1518.27 Q1591.6 1513.66 1597.41 1513.66 Z\" fill=\"#000000\" fill-rule=\"nonzero\" fill-opacity=\"1\" /><path clip-path=\"url(#clip780)\" d=\"M1872.7 1544.91 L1889.02 1544.91 L1889.02 1548.85 L1867.08 1548.85 L1867.08 1544.91 Q1869.74 1542.16 1874.32 1537.53 Q1878.93 1532.88 1880.11 1531.53 Q1882.35 1529.01 1883.23 1527.27 Q1884.14 1525.51 1884.14 1523.82 Q1884.14 1521.07 1882.19 1519.33 Q1880.27 1517.6 1877.17 1517.6 Q1874.97 1517.6 1872.52 1518.36 Q1870.09 1519.13 1867.31 1520.68 L1867.31 1515.95 Q1870.13 1514.82 1872.59 1514.24 Q1875.04 1513.66 1877.08 1513.66 Q1882.45 1513.66 1885.64 1516.35 Q1888.84 1519.03 1888.84 1523.52 Q1888.84 1525.65 1888.03 1527.57 Q1887.24 1529.47 1885.13 1532.07 Q1884.55 1532.74 1881.45 1535.95 Q1878.35 1539.15 1872.7 1544.91 Z\" fill=\"#000000\" fill-rule=\"nonzero\" fill-opacity=\"1\" /><path clip-path=\"url(#clip780)\" d=\"M1908.84 1517.37 Q1905.22 1517.37 1903.4 1520.93 Q1901.59 1524.47 1901.59 1531.6 Q1901.59 1538.71 1903.4 1542.27 Q1905.22 1545.82 1908.84 1545.82 Q1912.47 1545.82 1914.28 1542.27 Q1916.1 1538.71 1916.1 1531.6 Q1916.1 1524.47 1914.28 1520.93 Q1912.47 1517.37 1908.84 1517.37 M1908.84 1513.66 Q1914.65 1513.66 1917.7 1518.27 Q1920.78 1522.85 1920.78 1531.6 Q1920.78 1540.33 1917.7 1544.94 Q1914.65 1549.52 1908.84 1549.52 Q1903.03 1549.52 1899.95 1544.94 Q1896.89 1540.33 1896.89 1531.6 Q1896.89 1522.85 1899.95 1518.27 Q1903.03 1513.66 1908.84 1513.66 Z\" fill=\"#000000\" fill-rule=\"nonzero\" fill-opacity=\"1\" /><path clip-path=\"url(#clip780)\" d=\"M1929.81 1544.91 L1937.45 1544.91 L1937.45 1518.55 L1929.14 1520.21 L1929.14 1515.95 L1937.4 1514.29 L1942.08 1514.29 L1942.08 1544.91 L1949.72 1544.91 L1949.72 1548.85 L1929.81 1548.85 L1929.81 1544.91 Z\" fill=\"#000000\" fill-rule=\"nonzero\" fill-opacity=\"1\" /><path clip-path=\"url(#clip780)\" d=\"M1959.21 1514.29 L1977.56 1514.29 L1977.56 1518.22 L1963.49 1518.22 L1963.49 1526.7 Q1964.51 1526.35 1965.53 1526.19 Q1966.54 1526 1967.56 1526 Q1973.35 1526 1976.73 1529.17 Q1980.11 1532.34 1980.11 1537.76 Q1980.11 1543.34 1976.64 1546.44 Q1973.16 1549.52 1966.84 1549.52 Q1964.67 1549.52 1962.4 1549.15 Q1960.16 1548.78 1957.75 1548.04 L1957.75 1543.34 Q1959.83 1544.47 1962.05 1545.03 Q1964.28 1545.58 1966.75 1545.58 Q1970.76 1545.58 1973.09 1543.48 Q1975.43 1541.37 1975.43 1537.76 Q1975.43 1534.15 1973.09 1532.04 Q1970.76 1529.94 1966.75 1529.94 Q1964.88 1529.94 1963 1530.35 Q1961.15 1530.77 1959.21 1531.65 L1959.21 1514.29 Z\" fill=\"#000000\" fill-rule=\"nonzero\" fill-opacity=\"1\" /><path clip-path=\"url(#clip780)\" d=\"M2243.45 1544.91 L2259.77 1544.91 L2259.77 1548.85 L2237.83 1548.85 L2237.83 1544.91 Q2240.49 1542.16 2245.07 1537.53 Q2249.68 1532.88 2250.86 1531.53 Q2253.11 1529.01 2253.98 1527.27 Q2254.89 1525.51 2254.89 1523.82 Q2254.89 1521.07 2252.94 1519.33 Q2251.02 1517.6 2247.92 1517.6 Q2245.72 1517.6 2243.27 1518.36 Q2240.84 1519.13 2238.06 1520.68 L2238.06 1515.95 Q2240.88 1514.82 2243.34 1514.24 Q2245.79 1513.66 2247.83 1513.66 Q2253.2 1513.66 2256.39 1516.35 Q2259.59 1519.03 2259.59 1523.52 Q2259.59 1525.65 2258.78 1527.57 Q2257.99 1529.47 2255.88 1532.07 Q2255.3 1532.74 2252.2 1535.95 Q2249.1 1539.15 2243.45 1544.91 Z\" fill=\"#000000\" fill-rule=\"nonzero\" fill-opacity=\"1\" /><path clip-path=\"url(#clip780)\" d=\"M2279.59 1517.37 Q2275.98 1517.37 2274.15 1520.93 Q2272.34 1524.47 2272.34 1531.6 Q2272.34 1538.71 2274.15 1542.27 Q2275.98 1545.82 2279.59 1545.82 Q2283.22 1545.82 2285.03 1542.27 Q2286.86 1538.71 2286.86 1531.6 Q2286.86 1524.47 2285.03 1520.93 Q2283.22 1517.37 2279.59 1517.37 M2279.59 1513.66 Q2285.4 1513.66 2288.45 1518.27 Q2291.53 1522.85 2291.53 1531.6 Q2291.53 1540.33 2288.45 1544.94 Q2285.4 1549.52 2279.59 1549.52 Q2273.78 1549.52 2270.7 1544.94 Q2267.64 1540.33 2267.64 1531.6 Q2267.64 1522.85 2270.7 1518.27 Q2273.78 1513.66 2279.59 1513.66 Z\" fill=\"#000000\" fill-rule=\"nonzero\" fill-opacity=\"1\" /><path clip-path=\"url(#clip780)\" d=\"M2303.78 1544.91 L2320.1 1544.91 L2320.1 1548.85 L2298.15 1548.85 L2298.15 1544.91 Q2300.81 1542.16 2305.4 1537.53 Q2310 1532.88 2311.18 1531.53 Q2313.43 1529.01 2314.31 1527.27 Q2315.21 1525.51 2315.21 1523.82 Q2315.21 1521.07 2313.27 1519.33 Q2311.35 1517.6 2308.24 1517.6 Q2306.04 1517.6 2303.59 1518.36 Q2301.16 1519.13 2298.38 1520.68 L2298.38 1515.95 Q2301.21 1514.82 2303.66 1514.24 Q2306.11 1513.66 2308.15 1513.66 Q2313.52 1513.66 2316.72 1516.35 Q2319.91 1519.03 2319.91 1523.52 Q2319.91 1525.65 2319.1 1527.57 Q2318.31 1529.47 2316.21 1532.07 Q2315.63 1532.74 2312.53 1535.95 Q2309.42 1539.15 2303.78 1544.91 Z\" fill=\"#000000\" fill-rule=\"nonzero\" fill-opacity=\"1\" /><path clip-path=\"url(#clip780)\" d=\"M2339.91 1517.37 Q2336.3 1517.37 2334.47 1520.93 Q2332.67 1524.47 2332.67 1531.6 Q2332.67 1538.71 2334.47 1542.27 Q2336.3 1545.82 2339.91 1545.82 Q2343.54 1545.82 2345.35 1542.27 Q2347.18 1538.71 2347.18 1531.6 Q2347.18 1524.47 2345.35 1520.93 Q2343.54 1517.37 2339.91 1517.37 M2339.91 1513.66 Q2345.72 1513.66 2348.78 1518.27 Q2351.85 1522.85 2351.85 1531.6 Q2351.85 1540.33 2348.78 1544.94 Q2345.72 1549.52 2339.91 1549.52 Q2334.1 1549.52 2331.02 1544.94 Q2327.97 1540.33 2327.97 1531.6 Q2327.97 1522.85 2331.02 1518.27 Q2334.1 1513.66 2339.91 1513.66 Z\" fill=\"#000000\" fill-rule=\"nonzero\" fill-opacity=\"1\" /><polyline clip-path=\"url(#clip782)\" style=\"stroke:#000000; stroke-linecap:round; stroke-linejoin:round; stroke-width:2; stroke-opacity:0.1; fill:none\" points=\"306.435,1268.35 2352.76,1268.35 \"/>\n",
       "<polyline clip-path=\"url(#clip782)\" style=\"stroke:#000000; stroke-linecap:round; stroke-linejoin:round; stroke-width:2; stroke-opacity:0.1; fill:none\" points=\"306.435,962.556 2352.76,962.556 \"/>\n",
       "<polyline clip-path=\"url(#clip782)\" style=\"stroke:#000000; stroke-linecap:round; stroke-linejoin:round; stroke-width:2; stroke-opacity:0.1; fill:none\" points=\"306.435,656.759 2352.76,656.759 \"/>\n",
       "<polyline clip-path=\"url(#clip782)\" style=\"stroke:#000000; stroke-linecap:round; stroke-linejoin:round; stroke-width:2; stroke-opacity:0.1; fill:none\" points=\"306.435,350.962 2352.76,350.962 \"/>\n",
       "<polyline clip-path=\"url(#clip780)\" style=\"stroke:#000000; stroke-linecap:round; stroke-linejoin:round; stroke-width:4; stroke-opacity:1; fill:none\" points=\"306.435,1486.45 306.435,47.2441 \"/>\n",
       "<polyline clip-path=\"url(#clip780)\" style=\"stroke:#000000; stroke-linecap:round; stroke-linejoin:round; stroke-width:4; stroke-opacity:1; fill:none\" points=\"306.435,1268.35 325.333,1268.35 \"/>\n",
       "<polyline clip-path=\"url(#clip780)\" style=\"stroke:#000000; stroke-linecap:round; stroke-linejoin:round; stroke-width:4; stroke-opacity:1; fill:none\" points=\"306.435,962.556 325.333,962.556 \"/>\n",
       "<polyline clip-path=\"url(#clip780)\" style=\"stroke:#000000; stroke-linecap:round; stroke-linejoin:round; stroke-width:4; stroke-opacity:1; fill:none\" points=\"306.435,656.759 325.333,656.759 \"/>\n",
       "<polyline clip-path=\"url(#clip780)\" style=\"stroke:#000000; stroke-linecap:round; stroke-linejoin:round; stroke-width:4; stroke-opacity:1; fill:none\" points=\"306.435,350.962 325.333,350.962 \"/>\n",
       "<path clip-path=\"url(#clip780)\" d=\"M53.3995 1288.15 L61.0384 1288.15 L61.0384 1261.78 L52.7282 1263.45 L52.7282 1259.19 L60.9921 1257.52 L65.668 1257.52 L65.668 1288.15 L73.3068 1288.15 L73.3068 1292.08 L53.3995 1292.08 L53.3995 1288.15 Z\" fill=\"#000000\" fill-rule=\"nonzero\" fill-opacity=\"1\" /><path clip-path=\"url(#clip780)\" d=\"M82.7512 1286.2 L87.6354 1286.2 L87.6354 1292.08 L82.7512 1292.08 L82.7512 1286.2 Z\" fill=\"#000000\" fill-rule=\"nonzero\" fill-opacity=\"1\" /><path clip-path=\"url(#clip780)\" d=\"M107.821 1260.6 Q104.209 1260.6 102.381 1264.16 Q100.575 1267.71 100.575 1274.84 Q100.575 1281.94 102.381 1285.51 Q104.209 1289.05 107.821 1289.05 Q111.455 1289.05 113.26 1285.51 Q115.089 1281.94 115.089 1274.84 Q115.089 1267.71 113.26 1264.16 Q111.455 1260.6 107.821 1260.6 M107.821 1256.9 Q113.631 1256.9 116.686 1261.5 Q119.765 1266.09 119.765 1274.84 Q119.765 1283.56 116.686 1288.17 Q113.631 1292.75 107.821 1292.75 Q102.01 1292.75 98.9317 1288.17 Q95.8761 1283.56 95.8761 1274.84 Q95.8761 1266.09 98.9317 1261.5 Q102.01 1256.9 107.821 1256.9 Z\" fill=\"#000000\" fill-rule=\"nonzero\" fill-opacity=\"1\" /><path clip-path=\"url(#clip780)\" d=\"M137.982 1260.6 Q134.371 1260.6 132.543 1264.16 Q130.737 1267.71 130.737 1274.84 Q130.737 1281.94 132.543 1285.51 Q134.371 1289.05 137.982 1289.05 Q141.617 1289.05 143.422 1285.51 Q145.251 1281.94 145.251 1274.84 Q145.251 1267.71 143.422 1264.16 Q141.617 1260.6 137.982 1260.6 M137.982 1256.9 Q143.793 1256.9 146.848 1261.5 Q149.927 1266.09 149.927 1274.84 Q149.927 1283.56 146.848 1288.17 Q143.793 1292.75 137.982 1292.75 Q132.172 1292.75 129.094 1288.17 Q126.038 1283.56 126.038 1274.84 Q126.038 1266.09 129.094 1261.5 Q132.172 1256.9 137.982 1256.9 Z\" fill=\"#000000\" fill-rule=\"nonzero\" fill-opacity=\"1\" /><path clip-path=\"url(#clip780)\" d=\"M186.315 1266.62 L175.737 1277.24 L186.315 1287.82 L183.561 1290.62 L172.936 1280 L162.311 1290.62 L159.58 1287.82 L170.135 1277.24 L159.58 1266.62 L162.311 1263.82 L172.936 1274.44 L183.561 1263.82 L186.315 1266.62 Z\" fill=\"#000000\" fill-rule=\"nonzero\" fill-opacity=\"1\" /><path clip-path=\"url(#clip780)\" d=\"M198.677 1288.15 L206.315 1288.15 L206.315 1261.78 L198.005 1263.45 L198.005 1259.19 L206.269 1257.52 L210.945 1257.52 L210.945 1288.15 L218.584 1288.15 L218.584 1292.08 L198.677 1292.08 L198.677 1288.15 Z\" fill=\"#000000\" fill-rule=\"nonzero\" fill-opacity=\"1\" /><path clip-path=\"url(#clip780)\" d=\"M238.028 1260.6 Q234.417 1260.6 232.588 1264.16 Q230.783 1267.71 230.783 1274.84 Q230.783 1281.94 232.588 1285.51 Q234.417 1289.05 238.028 1289.05 Q241.662 1289.05 243.468 1285.51 Q245.297 1281.94 245.297 1274.84 Q245.297 1267.71 243.468 1264.16 Q241.662 1260.6 238.028 1260.6 M238.028 1256.9 Q243.838 1256.9 246.894 1261.5 Q249.973 1266.09 249.973 1274.84 Q249.973 1283.56 246.894 1288.17 Q243.838 1292.75 238.028 1292.75 Q232.218 1292.75 229.139 1288.17 Q226.084 1283.56 226.084 1274.84 Q226.084 1266.09 229.139 1261.5 Q232.218 1256.9 238.028 1256.9 Z\" fill=\"#000000\" fill-rule=\"nonzero\" fill-opacity=\"1\" /><path clip-path=\"url(#clip780)\" d=\"M262.649 1239.9 L253.057 1254.89 L262.649 1254.89 L262.649 1239.9 M261.652 1236.59 L266.429 1236.59 L266.429 1254.89 L270.435 1254.89 L270.435 1258.05 L266.429 1258.05 L266.429 1264.67 L262.649 1264.67 L262.649 1258.05 L249.973 1258.05 L249.973 1254.38 L261.652 1236.59 Z\" fill=\"#000000\" fill-rule=\"nonzero\" fill-opacity=\"1\" /><path clip-path=\"url(#clip780)\" d=\"M53.3995 982.349 L61.0384 982.349 L61.0384 955.983 L52.7282 957.65 L52.7282 953.39 L60.9921 951.724 L65.668 951.724 L65.668 982.349 L73.3068 982.349 L73.3068 986.284 L53.3995 986.284 L53.3995 982.349 Z\" fill=\"#000000\" fill-rule=\"nonzero\" fill-opacity=\"1\" /><path clip-path=\"url(#clip780)\" d=\"M82.7512 980.404 L87.6354 980.404 L87.6354 986.284 L82.7512 986.284 L82.7512 980.404 Z\" fill=\"#000000\" fill-rule=\"nonzero\" fill-opacity=\"1\" /><path clip-path=\"url(#clip780)\" d=\"M97.8669 951.724 L116.223 951.724 L116.223 955.659 L102.149 955.659 L102.149 964.131 Q103.168 963.784 104.186 963.622 Q105.205 963.437 106.223 963.437 Q112.01 963.437 115.39 966.608 Q118.77 969.779 118.77 975.196 Q118.77 980.775 115.297 983.876 Q111.825 986.955 105.506 986.955 Q103.33 986.955 101.061 986.585 Q98.8159 986.214 96.4085 985.474 L96.4085 980.775 Q98.4919 981.909 100.714 982.464 Q102.936 983.02 105.413 983.02 Q109.418 983.02 111.756 980.913 Q114.094 978.807 114.094 975.196 Q114.094 971.585 111.756 969.478 Q109.418 967.372 105.413 967.372 Q103.538 967.372 101.663 967.788 Q99.8113 968.205 97.8669 969.085 L97.8669 951.724 Z\" fill=\"#000000\" fill-rule=\"nonzero\" fill-opacity=\"1\" /><path clip-path=\"url(#clip780)\" d=\"M137.982 954.802 Q134.371 954.802 132.543 958.367 Q130.737 961.909 130.737 969.038 Q130.737 976.145 132.543 979.71 Q134.371 983.251 137.982 983.251 Q141.617 983.251 143.422 979.71 Q145.251 976.145 145.251 969.038 Q145.251 961.909 143.422 958.367 Q141.617 954.802 137.982 954.802 M137.982 951.099 Q143.793 951.099 146.848 955.705 Q149.927 960.289 149.927 969.038 Q149.927 977.765 146.848 982.372 Q143.793 986.955 137.982 986.955 Q132.172 986.955 129.094 982.372 Q126.038 977.765 126.038 969.038 Q126.038 960.289 129.094 955.705 Q132.172 951.099 137.982 951.099 Z\" fill=\"#000000\" fill-rule=\"nonzero\" fill-opacity=\"1\" /><path clip-path=\"url(#clip780)\" d=\"M186.315 960.821 L175.737 971.446 L186.315 982.025 L183.561 984.825 L172.936 974.201 L162.311 984.825 L159.58 982.025 L170.135 971.446 L159.58 960.821 L162.311 958.02 L172.936 968.645 L183.561 958.02 L186.315 960.821 Z\" fill=\"#000000\" fill-rule=\"nonzero\" fill-opacity=\"1\" /><path clip-path=\"url(#clip780)\" d=\"M198.677 982.349 L206.315 982.349 L206.315 955.983 L198.005 957.65 L198.005 953.39 L206.269 951.724 L210.945 951.724 L210.945 982.349 L218.584 982.349 L218.584 986.284 L198.677 986.284 L198.677 982.349 Z\" fill=\"#000000\" fill-rule=\"nonzero\" fill-opacity=\"1\" /><path clip-path=\"url(#clip780)\" d=\"M238.028 954.802 Q234.417 954.802 232.588 958.367 Q230.783 961.909 230.783 969.038 Q230.783 976.145 232.588 979.71 Q234.417 983.251 238.028 983.251 Q241.662 983.251 243.468 979.71 Q245.297 976.145 245.297 969.038 Q245.297 961.909 243.468 958.367 Q241.662 954.802 238.028 954.802 M238.028 951.099 Q243.838 951.099 246.894 955.705 Q249.973 960.289 249.973 969.038 Q249.973 977.765 246.894 982.372 Q243.838 986.955 238.028 986.955 Q232.218 986.955 229.139 982.372 Q226.084 977.765 226.084 969.038 Q226.084 960.289 229.139 955.705 Q232.218 951.099 238.028 951.099 Z\" fill=\"#000000\" fill-rule=\"nonzero\" fill-opacity=\"1\" /><path clip-path=\"url(#clip780)\" d=\"M262.649 934.104 L253.057 949.093 L262.649 949.093 L262.649 934.104 M261.652 930.793 L266.429 930.793 L266.429 949.093 L270.435 949.093 L270.435 952.253 L266.429 952.253 L266.429 958.873 L262.649 958.873 L262.649 952.253 L249.973 952.253 L249.973 948.586 L261.652 930.793 Z\" fill=\"#000000\" fill-rule=\"nonzero\" fill-opacity=\"1\" /><path clip-path=\"url(#clip780)\" d=\"M56.6171 676.551 L72.9365 676.551 L72.9365 680.487 L50.9921 680.487 L50.9921 676.551 Q53.6541 673.797 58.2375 669.167 Q62.8439 664.514 64.0245 663.172 Q66.2698 660.649 67.1494 658.913 Q68.0522 657.153 68.0522 655.464 Q68.0522 652.709 66.1078 650.973 Q64.1865 649.237 61.0847 649.237 Q58.8856 649.237 56.4319 650.001 Q54.0014 650.765 51.2236 652.315 L51.2236 647.593 Q54.0477 646.459 56.5014 645.88 Q58.955 645.302 60.9921 645.302 Q66.3624 645.302 69.5568 647.987 Q72.7513 650.672 72.7513 655.163 Q72.7513 657.292 71.9411 659.214 Q71.1541 661.112 69.0476 663.704 Q68.4689 664.376 65.367 667.593 Q62.2652 670.788 56.6171 676.551 Z\" fill=\"#000000\" fill-rule=\"nonzero\" fill-opacity=\"1\" /><path clip-path=\"url(#clip780)\" d=\"M82.7512 674.607 L87.6354 674.607 L87.6354 680.487 L82.7512 680.487 L82.7512 674.607 Z\" fill=\"#000000\" fill-rule=\"nonzero\" fill-opacity=\"1\" /><path clip-path=\"url(#clip780)\" d=\"M107.821 649.005 Q104.209 649.005 102.381 652.57 Q100.575 656.112 100.575 663.241 Q100.575 670.348 102.381 673.913 Q104.209 677.454 107.821 677.454 Q111.455 677.454 113.26 673.913 Q115.089 670.348 115.089 663.241 Q115.089 656.112 113.26 652.57 Q111.455 649.005 107.821 649.005 M107.821 645.302 Q113.631 645.302 116.686 649.908 Q119.765 654.491 119.765 663.241 Q119.765 671.968 116.686 676.575 Q113.631 681.158 107.821 681.158 Q102.01 681.158 98.9317 676.575 Q95.8761 671.968 95.8761 663.241 Q95.8761 654.491 98.9317 649.908 Q102.01 645.302 107.821 645.302 Z\" fill=\"#000000\" fill-rule=\"nonzero\" fill-opacity=\"1\" /><path clip-path=\"url(#clip780)\" d=\"M137.982 649.005 Q134.371 649.005 132.543 652.57 Q130.737 656.112 130.737 663.241 Q130.737 670.348 132.543 673.913 Q134.371 677.454 137.982 677.454 Q141.617 677.454 143.422 673.913 Q145.251 670.348 145.251 663.241 Q145.251 656.112 143.422 652.57 Q141.617 649.005 137.982 649.005 M137.982 645.302 Q143.793 645.302 146.848 649.908 Q149.927 654.491 149.927 663.241 Q149.927 671.968 146.848 676.575 Q143.793 681.158 137.982 681.158 Q132.172 681.158 129.094 676.575 Q126.038 671.968 126.038 663.241 Q126.038 654.491 129.094 649.908 Q132.172 645.302 137.982 645.302 Z\" fill=\"#000000\" fill-rule=\"nonzero\" fill-opacity=\"1\" /><path clip-path=\"url(#clip780)\" d=\"M186.315 655.024 L175.737 665.649 L186.315 676.227 L183.561 679.028 L172.936 668.403 L162.311 679.028 L159.58 676.227 L170.135 665.649 L159.58 655.024 L162.311 652.223 L172.936 662.848 L183.561 652.223 L186.315 655.024 Z\" fill=\"#000000\" fill-rule=\"nonzero\" fill-opacity=\"1\" /><path clip-path=\"url(#clip780)\" d=\"M198.677 676.551 L206.315 676.551 L206.315 650.186 L198.005 651.852 L198.005 647.593 L206.269 645.927 L210.945 645.927 L210.945 676.551 L218.584 676.551 L218.584 680.487 L198.677 680.487 L198.677 676.551 Z\" fill=\"#000000\" fill-rule=\"nonzero\" fill-opacity=\"1\" /><path clip-path=\"url(#clip780)\" d=\"M238.028 649.005 Q234.417 649.005 232.588 652.57 Q230.783 656.112 230.783 663.241 Q230.783 670.348 232.588 673.913 Q234.417 677.454 238.028 677.454 Q241.662 677.454 243.468 673.913 Q245.297 670.348 245.297 663.241 Q245.297 656.112 243.468 652.57 Q241.662 649.005 238.028 649.005 M238.028 645.302 Q243.838 645.302 246.894 649.908 Q249.973 654.491 249.973 663.241 Q249.973 671.968 246.894 676.575 Q243.838 681.158 238.028 681.158 Q232.218 681.158 229.139 676.575 Q226.084 671.968 226.084 663.241 Q226.084 654.491 229.139 649.908 Q232.218 645.302 238.028 645.302 Z\" fill=\"#000000\" fill-rule=\"nonzero\" fill-opacity=\"1\" /><path clip-path=\"url(#clip780)\" d=\"M262.649 628.306 L253.057 643.296 L262.649 643.296 L262.649 628.306 M261.652 624.996 L266.429 624.996 L266.429 643.296 L270.435 643.296 L270.435 646.456 L266.429 646.456 L266.429 653.076 L262.649 653.076 L262.649 646.456 L249.973 646.456 L249.973 642.788 L261.652 624.996 Z\" fill=\"#000000\" fill-rule=\"nonzero\" fill-opacity=\"1\" /><path clip-path=\"url(#clip780)\" d=\"M56.6171 370.754 L72.9365 370.754 L72.9365 374.689 L50.9921 374.689 L50.9921 370.754 Q53.6541 368 58.2375 363.37 Q62.8439 358.717 64.0245 357.375 Q66.2698 354.852 67.1494 353.115 Q68.0522 351.356 68.0522 349.666 Q68.0522 346.912 66.1078 345.176 Q64.1865 343.44 61.0847 343.44 Q58.8856 343.44 56.4319 344.203 Q54.0014 344.967 51.2236 346.518 L51.2236 341.796 Q54.0477 340.662 56.5014 340.083 Q58.955 339.504 60.9921 339.504 Q66.3624 339.504 69.5568 342.19 Q72.7513 344.875 72.7513 349.366 Q72.7513 351.495 71.9411 353.416 Q71.1541 355.315 69.0476 357.907 Q68.4689 358.578 65.367 361.796 Q62.2652 364.99 56.6171 370.754 Z\" fill=\"#000000\" fill-rule=\"nonzero\" fill-opacity=\"1\" /><path clip-path=\"url(#clip780)\" d=\"M82.7512 368.81 L87.6354 368.81 L87.6354 374.689 L82.7512 374.689 L82.7512 368.81 Z\" fill=\"#000000\" fill-rule=\"nonzero\" fill-opacity=\"1\" /><path clip-path=\"url(#clip780)\" d=\"M97.8669 340.129 L116.223 340.129 L116.223 344.065 L102.149 344.065 L102.149 352.537 Q103.168 352.19 104.186 352.028 Q105.205 351.842 106.223 351.842 Q112.01 351.842 115.39 355.014 Q118.77 358.185 118.77 363.602 Q118.77 369.18 115.297 372.282 Q111.825 375.361 105.506 375.361 Q103.33 375.361 101.061 374.99 Q98.8159 374.62 96.4085 373.879 L96.4085 369.18 Q98.4919 370.314 100.714 370.87 Q102.936 371.426 105.413 371.426 Q109.418 371.426 111.756 369.319 Q114.094 367.213 114.094 363.602 Q114.094 359.99 111.756 357.884 Q109.418 355.778 105.413 355.778 Q103.538 355.778 101.663 356.194 Q99.8113 356.611 97.8669 357.49 L97.8669 340.129 Z\" fill=\"#000000\" fill-rule=\"nonzero\" fill-opacity=\"1\" /><path clip-path=\"url(#clip780)\" d=\"M137.982 343.208 Q134.371 343.208 132.543 346.773 Q130.737 350.315 130.737 357.444 Q130.737 364.551 132.543 368.115 Q134.371 371.657 137.982 371.657 Q141.617 371.657 143.422 368.115 Q145.251 364.551 145.251 357.444 Q145.251 350.315 143.422 346.773 Q141.617 343.208 137.982 343.208 M137.982 339.504 Q143.793 339.504 146.848 344.111 Q149.927 348.694 149.927 357.444 Q149.927 366.171 146.848 370.777 Q143.793 375.361 137.982 375.361 Q132.172 375.361 129.094 370.777 Q126.038 366.171 126.038 357.444 Q126.038 348.694 129.094 344.111 Q132.172 339.504 137.982 339.504 Z\" fill=\"#000000\" fill-rule=\"nonzero\" fill-opacity=\"1\" /><path clip-path=\"url(#clip780)\" d=\"M186.315 349.227 L175.737 359.852 L186.315 370.43 L183.561 373.231 L172.936 362.606 L162.311 373.231 L159.58 370.43 L170.135 359.852 L159.58 349.227 L162.311 346.426 L172.936 357.051 L183.561 346.426 L186.315 349.227 Z\" fill=\"#000000\" fill-rule=\"nonzero\" fill-opacity=\"1\" /><path clip-path=\"url(#clip780)\" d=\"M198.677 370.754 L206.315 370.754 L206.315 344.389 L198.005 346.055 L198.005 341.796 L206.269 340.129 L210.945 340.129 L210.945 370.754 L218.584 370.754 L218.584 374.689 L198.677 374.689 L198.677 370.754 Z\" fill=\"#000000\" fill-rule=\"nonzero\" fill-opacity=\"1\" /><path clip-path=\"url(#clip780)\" d=\"M238.028 343.208 Q234.417 343.208 232.588 346.773 Q230.783 350.315 230.783 357.444 Q230.783 364.551 232.588 368.115 Q234.417 371.657 238.028 371.657 Q241.662 371.657 243.468 368.115 Q245.297 364.551 245.297 357.444 Q245.297 350.315 243.468 346.773 Q241.662 343.208 238.028 343.208 M238.028 339.504 Q243.838 339.504 246.894 344.111 Q249.973 348.694 249.973 357.444 Q249.973 366.171 246.894 370.777 Q243.838 375.361 238.028 375.361 Q232.218 375.361 229.139 370.777 Q226.084 366.171 226.084 357.444 Q226.084 348.694 229.139 344.111 Q232.218 339.504 238.028 339.504 Z\" fill=\"#000000\" fill-rule=\"nonzero\" fill-opacity=\"1\" /><path clip-path=\"url(#clip780)\" d=\"M262.649 322.509 L253.057 337.499 L262.649 337.499 L262.649 322.509 M261.652 319.199 L266.429 319.199 L266.429 337.499 L270.435 337.499 L270.435 340.659 L266.429 340.659 L266.429 347.279 L262.649 347.279 L262.649 340.659 L249.973 340.659 L249.973 336.991 L261.652 319.199 Z\" fill=\"#000000\" fill-rule=\"nonzero\" fill-opacity=\"1\" /><polyline clip-path=\"url(#clip782)\" style=\"stroke:#009af9; stroke-linecap:round; stroke-linejoin:round; stroke-width:4; stroke-opacity:1; fill:none\" points=\"364.35,87.9763 438.6,106.324 512.849,191.947 587.099,467.165 661.349,668.991 735.598,742.382 809.848,644.527 884.098,699.571 958.347,552.788 1032.6,815.774 1106.85,785.194 1181.1,834.121 1255.35,864.701 1329.6,993.136 1403.85,913.629 1478.09,828.005 1552.34,853.081 1626.59,1109.34 1700.84,1201.08 1775.09,1286.7 1849.34,1176.61 1923.59,1225.54 1997.84,1305.05 2072.09,1329.51 2146.34,1298.93 2220.59,1335.63 2294.84,1445.72 \"/>\n",
       "<path clip-path=\"url(#clip780)\" d=\"M2027.48 198.898 L2284.55 198.898 L2284.55 95.2176 L2027.48 95.2176  Z\" fill=\"#ffffff\" fill-rule=\"evenodd\" fill-opacity=\"1\"/>\n",
       "<polyline clip-path=\"url(#clip780)\" style=\"stroke:#000000; stroke-linecap:round; stroke-linejoin:round; stroke-width:4; stroke-opacity:1; fill:none\" points=\"2027.48,198.898 2284.55,198.898 2284.55,95.2176 2027.48,95.2176 2027.48,198.898 \"/>\n",
       "<polyline clip-path=\"url(#clip780)\" style=\"stroke:#009af9; stroke-linecap:round; stroke-linejoin:round; stroke-width:4; stroke-opacity:1; fill:none\" points=\"2050.22,147.058 2186.64,147.058 \"/>\n",
       "<path clip-path=\"url(#clip780)\" d=\"M2223.22 166.745 Q2221.42 171.375 2219.7 172.787 Q2217.99 174.199 2215.12 174.199 L2211.72 174.199 L2211.72 170.634 L2214.22 170.634 Q2215.98 170.634 2216.95 169.8 Q2217.92 168.967 2219.1 165.865 L2219.86 163.921 L2209.38 138.412 L2213.89 138.412 L2221.99 158.689 L2230.1 138.412 L2234.61 138.412 L2223.22 166.745 Z\" fill=\"#000000\" fill-rule=\"nonzero\" fill-opacity=\"1\" /><path clip-path=\"url(#clip780)\" d=\"M2241.9 160.402 L2249.54 160.402 L2249.54 134.037 L2241.23 135.703 L2241.23 131.444 L2249.49 129.778 L2254.17 129.778 L2254.17 160.402 L2261.81 160.402 L2261.81 164.338 L2241.9 164.338 L2241.9 160.402 Z\" fill=\"#000000\" fill-rule=\"nonzero\" fill-opacity=\"1\" /></svg>\n"
      ],
      "text/html": [
       "<?xml version=\"1.0\" encoding=\"utf-8\"?>\n",
       "<svg xmlns=\"http://www.w3.org/2000/svg\" xmlns:xlink=\"http://www.w3.org/1999/xlink\" width=\"600\" height=\"400\" viewBox=\"0 0 2400 1600\">\n",
       "<defs>\n",
       "  <clipPath id=\"clip830\">\n",
       "    <rect x=\"0\" y=\"0\" width=\"2400\" height=\"1600\"/>\n",
       "  </clipPath>\n",
       "</defs>\n",
       "<path clip-path=\"url(#clip830)\" d=\"M0 1600 L2400 1600 L2400 0 L0 0  Z\" fill=\"#ffffff\" fill-rule=\"evenodd\" fill-opacity=\"1\"/>\n",
       "<defs>\n",
       "  <clipPath id=\"clip831\">\n",
       "    <rect x=\"480\" y=\"0\" width=\"1681\" height=\"1600\"/>\n",
       "  </clipPath>\n",
       "</defs>\n",
       "<path clip-path=\"url(#clip830)\" d=\"M306.435 1486.45 L2352.76 1486.45 L2352.76 47.2441 L306.435 47.2441  Z\" fill=\"#ffffff\" fill-rule=\"evenodd\" fill-opacity=\"1\"/>\n",
       "<defs>\n",
       "  <clipPath id=\"clip832\">\n",
       "    <rect x=\"306\" y=\"47\" width=\"2047\" height=\"1440\"/>\n",
       "  </clipPath>\n",
       "</defs>\n",
       "<polyline clip-path=\"url(#clip832)\" style=\"stroke:#000000; stroke-linecap:round; stroke-linejoin:round; stroke-width:2; stroke-opacity:0.1; fill:none\" points=\"438.6,1486.45 438.6,47.2441 \"/>\n",
       "<polyline clip-path=\"url(#clip832)\" style=\"stroke:#000000; stroke-linecap:round; stroke-linejoin:round; stroke-width:2; stroke-opacity:0.1; fill:none\" points=\"809.848,1486.45 809.848,47.2441 \"/>\n",
       "<polyline clip-path=\"url(#clip832)\" style=\"stroke:#000000; stroke-linecap:round; stroke-linejoin:round; stroke-width:2; stroke-opacity:0.1; fill:none\" points=\"1181.1,1486.45 1181.1,47.2441 \"/>\n",
       "<polyline clip-path=\"url(#clip832)\" style=\"stroke:#000000; stroke-linecap:round; stroke-linejoin:round; stroke-width:2; stroke-opacity:0.1; fill:none\" points=\"1552.34,1486.45 1552.34,47.2441 \"/>\n",
       "<polyline clip-path=\"url(#clip832)\" style=\"stroke:#000000; stroke-linecap:round; stroke-linejoin:round; stroke-width:2; stroke-opacity:0.1; fill:none\" points=\"1923.59,1486.45 1923.59,47.2441 \"/>\n",
       "<polyline clip-path=\"url(#clip832)\" style=\"stroke:#000000; stroke-linecap:round; stroke-linejoin:round; stroke-width:2; stroke-opacity:0.1; fill:none\" points=\"2294.84,1486.45 2294.84,47.2441 \"/>\n",
       "<polyline clip-path=\"url(#clip830)\" style=\"stroke:#000000; stroke-linecap:round; stroke-linejoin:round; stroke-width:4; stroke-opacity:1; fill:none\" points=\"306.435,1486.45 2352.76,1486.45 \"/>\n",
       "<polyline clip-path=\"url(#clip830)\" style=\"stroke:#000000; stroke-linecap:round; stroke-linejoin:round; stroke-width:4; stroke-opacity:1; fill:none\" points=\"438.6,1486.45 438.6,1467.55 \"/>\n",
       "<polyline clip-path=\"url(#clip830)\" style=\"stroke:#000000; stroke-linecap:round; stroke-linejoin:round; stroke-width:4; stroke-opacity:1; fill:none\" points=\"809.848,1486.45 809.848,1467.55 \"/>\n",
       "<polyline clip-path=\"url(#clip830)\" style=\"stroke:#000000; stroke-linecap:round; stroke-linejoin:round; stroke-width:4; stroke-opacity:1; fill:none\" points=\"1181.1,1486.45 1181.1,1467.55 \"/>\n",
       "<polyline clip-path=\"url(#clip830)\" style=\"stroke:#000000; stroke-linecap:round; stroke-linejoin:round; stroke-width:4; stroke-opacity:1; fill:none\" points=\"1552.34,1486.45 1552.34,1467.55 \"/>\n",
       "<polyline clip-path=\"url(#clip830)\" style=\"stroke:#000000; stroke-linecap:round; stroke-linejoin:round; stroke-width:4; stroke-opacity:1; fill:none\" points=\"1923.59,1486.45 1923.59,1467.55 \"/>\n",
       "<polyline clip-path=\"url(#clip830)\" style=\"stroke:#000000; stroke-linecap:round; stroke-linejoin:round; stroke-width:4; stroke-opacity:1; fill:none\" points=\"2294.84,1486.45 2294.84,1467.55 \"/>\n",
       "<path clip-path=\"url(#clip830)\" d=\"M383.623 1544.91 L391.262 1544.91 L391.262 1518.55 L382.952 1520.21 L382.952 1515.95 L391.216 1514.29 L395.892 1514.29 L395.892 1544.91 L403.531 1544.91 L403.531 1548.85 L383.623 1548.85 L383.623 1544.91 Z\" fill=\"#000000\" fill-rule=\"nonzero\" fill-opacity=\"1\" /><path clip-path=\"url(#clip830)\" d=\"M413.114 1548.13 L413.114 1543.87 Q414.873 1544.7 416.679 1545.14 Q418.484 1545.58 420.22 1545.58 Q424.85 1545.58 427.28 1542.48 Q429.734 1539.36 430.081 1533.01 Q428.739 1535.01 426.679 1536.07 Q424.618 1537.13 422.118 1537.13 Q416.933 1537.13 413.901 1534.01 Q410.892 1530.86 410.892 1525.42 Q410.892 1520.1 414.04 1516.88 Q417.188 1513.66 422.419 1513.66 Q428.415 1513.66 431.563 1518.27 Q434.734 1522.85 434.734 1531.6 Q434.734 1539.77 430.845 1544.66 Q426.979 1549.52 420.429 1549.52 Q418.669 1549.52 416.864 1549.17 Q415.058 1548.82 413.114 1548.13 M422.419 1533.48 Q425.567 1533.48 427.396 1531.32 Q429.248 1529.17 429.248 1525.42 Q429.248 1521.7 427.396 1519.54 Q425.567 1517.37 422.419 1517.37 Q419.271 1517.37 417.419 1519.54 Q415.591 1521.7 415.591 1525.42 Q415.591 1529.17 417.419 1531.32 Q419.271 1533.48 422.419 1533.48 Z\" fill=\"#000000\" fill-rule=\"nonzero\" fill-opacity=\"1\" /><path clip-path=\"url(#clip830)\" d=\"M443.276 1548.13 L443.276 1543.87 Q445.035 1544.7 446.84 1545.14 Q448.646 1545.58 450.382 1545.58 Q455.012 1545.58 457.442 1542.48 Q459.896 1539.36 460.243 1533.01 Q458.901 1535.01 456.84 1536.07 Q454.78 1537.13 452.28 1537.13 Q447.095 1537.13 444.063 1534.01 Q441.053 1530.86 441.053 1525.42 Q441.053 1520.1 444.202 1516.88 Q447.35 1513.66 452.581 1513.66 Q458.577 1513.66 461.725 1518.27 Q464.896 1522.85 464.896 1531.6 Q464.896 1539.77 461.007 1544.66 Q457.141 1549.52 450.59 1549.52 Q448.831 1549.52 447.026 1549.17 Q445.22 1548.82 443.276 1548.13 M452.581 1533.48 Q455.729 1533.48 457.558 1531.32 Q459.41 1529.17 459.41 1525.42 Q459.41 1521.7 457.558 1519.54 Q455.729 1517.37 452.581 1517.37 Q449.433 1517.37 447.581 1519.54 Q445.753 1521.7 445.753 1525.42 Q445.753 1529.17 447.581 1531.32 Q449.433 1533.48 452.581 1533.48 Z\" fill=\"#000000\" fill-rule=\"nonzero\" fill-opacity=\"1\" /><path clip-path=\"url(#clip830)\" d=\"M473.345 1514.29 L491.701 1514.29 L491.701 1518.22 L477.627 1518.22 L477.627 1526.7 Q478.646 1526.35 479.664 1526.19 Q480.683 1526 481.701 1526 Q487.488 1526 490.868 1529.17 Q494.248 1532.34 494.248 1537.76 Q494.248 1543.34 490.775 1546.44 Q487.303 1549.52 480.984 1549.52 Q478.808 1549.52 476.539 1549.15 Q474.294 1548.78 471.887 1548.04 L471.887 1543.34 Q473.97 1544.47 476.192 1545.03 Q478.414 1545.58 480.891 1545.58 Q484.896 1545.58 487.234 1543.48 Q489.572 1541.37 489.572 1537.76 Q489.572 1534.15 487.234 1532.04 Q484.896 1529.94 480.891 1529.94 Q479.016 1529.94 477.141 1530.35 Q475.289 1530.77 473.345 1531.65 L473.345 1514.29 Z\" fill=\"#000000\" fill-rule=\"nonzero\" fill-opacity=\"1\" /><path clip-path=\"url(#clip830)\" d=\"M758.459 1544.91 L774.779 1544.91 L774.779 1548.85 L752.834 1548.85 L752.834 1544.91 Q755.496 1542.16 760.08 1537.53 Q764.686 1532.88 765.867 1531.53 Q768.112 1529.01 768.992 1527.27 Q769.895 1525.51 769.895 1523.82 Q769.895 1521.07 767.95 1519.33 Q766.029 1517.6 762.927 1517.6 Q760.728 1517.6 758.274 1518.36 Q755.844 1519.13 753.066 1520.68 L753.066 1515.95 Q755.89 1514.82 758.344 1514.24 Q760.797 1513.66 762.834 1513.66 Q768.205 1513.66 771.399 1516.35 Q774.594 1519.03 774.594 1523.52 Q774.594 1525.65 773.783 1527.57 Q772.996 1529.47 770.89 1532.07 Q770.311 1532.74 767.209 1535.95 Q764.108 1539.15 758.459 1544.91 Z\" fill=\"#000000\" fill-rule=\"nonzero\" fill-opacity=\"1\" /><path clip-path=\"url(#clip830)\" d=\"M794.594 1517.37 Q790.982 1517.37 789.154 1520.93 Q787.348 1524.47 787.348 1531.6 Q787.348 1538.71 789.154 1542.27 Q790.982 1545.82 794.594 1545.82 Q798.228 1545.82 800.033 1542.27 Q801.862 1538.71 801.862 1531.6 Q801.862 1524.47 800.033 1520.93 Q798.228 1517.37 794.594 1517.37 M794.594 1513.66 Q800.404 1513.66 803.459 1518.27 Q806.538 1522.85 806.538 1531.6 Q806.538 1540.33 803.459 1544.94 Q800.404 1549.52 794.594 1549.52 Q788.783 1549.52 785.705 1544.94 Q782.649 1540.33 782.649 1531.6 Q782.649 1522.85 785.705 1518.27 Q788.783 1513.66 794.594 1513.66 Z\" fill=\"#000000\" fill-rule=\"nonzero\" fill-opacity=\"1\" /><path clip-path=\"url(#clip830)\" d=\"M824.755 1517.37 Q821.144 1517.37 819.316 1520.93 Q817.51 1524.47 817.51 1531.6 Q817.51 1538.71 819.316 1542.27 Q821.144 1545.82 824.755 1545.82 Q828.39 1545.82 830.195 1542.27 Q832.024 1538.71 832.024 1531.6 Q832.024 1524.47 830.195 1520.93 Q828.39 1517.37 824.755 1517.37 M824.755 1513.66 Q830.566 1513.66 833.621 1518.27 Q836.7 1522.85 836.7 1531.6 Q836.7 1540.33 833.621 1544.94 Q830.566 1549.52 824.755 1549.52 Q818.945 1549.52 815.867 1544.94 Q812.811 1540.33 812.811 1531.6 Q812.811 1522.85 815.867 1518.27 Q818.945 1513.66 824.755 1513.66 Z\" fill=\"#000000\" fill-rule=\"nonzero\" fill-opacity=\"1\" /><path clip-path=\"url(#clip830)\" d=\"M854.917 1517.37 Q851.306 1517.37 849.477 1520.93 Q847.672 1524.47 847.672 1531.6 Q847.672 1538.71 849.477 1542.27 Q851.306 1545.82 854.917 1545.82 Q858.552 1545.82 860.357 1542.27 Q862.186 1538.71 862.186 1531.6 Q862.186 1524.47 860.357 1520.93 Q858.552 1517.37 854.917 1517.37 M854.917 1513.66 Q860.727 1513.66 863.783 1518.27 Q866.862 1522.85 866.862 1531.6 Q866.862 1540.33 863.783 1544.94 Q860.727 1549.52 854.917 1549.52 Q849.107 1549.52 846.028 1544.94 Q842.973 1540.33 842.973 1531.6 Q842.973 1522.85 846.028 1518.27 Q849.107 1513.66 854.917 1513.66 Z\" fill=\"#000000\" fill-rule=\"nonzero\" fill-opacity=\"1\" /><path clip-path=\"url(#clip830)\" d=\"M1130.21 1544.91 L1146.52 1544.91 L1146.52 1548.85 L1124.58 1548.85 L1124.58 1544.91 Q1127.24 1542.16 1131.83 1537.53 Q1136.43 1532.88 1137.61 1531.53 Q1139.86 1529.01 1140.74 1527.27 Q1141.64 1525.51 1141.64 1523.82 Q1141.64 1521.07 1139.7 1519.33 Q1137.77 1517.6 1134.67 1517.6 Q1132.47 1517.6 1130.02 1518.36 Q1127.59 1519.13 1124.81 1520.68 L1124.81 1515.95 Q1127.64 1514.82 1130.09 1514.24 Q1132.54 1513.66 1134.58 1513.66 Q1139.95 1513.66 1143.15 1516.35 Q1146.34 1519.03 1146.34 1523.52 Q1146.34 1525.65 1145.53 1527.57 Q1144.74 1529.47 1142.64 1532.07 Q1142.06 1532.74 1138.96 1535.95 Q1135.85 1539.15 1130.21 1544.91 Z\" fill=\"#000000\" fill-rule=\"nonzero\" fill-opacity=\"1\" /><path clip-path=\"url(#clip830)\" d=\"M1166.34 1517.37 Q1162.73 1517.37 1160.9 1520.93 Q1159.09 1524.47 1159.09 1531.6 Q1159.09 1538.71 1160.9 1542.27 Q1162.73 1545.82 1166.34 1545.82 Q1169.97 1545.82 1171.78 1542.27 Q1173.61 1538.71 1173.61 1531.6 Q1173.61 1524.47 1171.78 1520.93 Q1169.97 1517.37 1166.34 1517.37 M1166.34 1513.66 Q1172.15 1513.66 1175.21 1518.27 Q1178.28 1522.85 1178.28 1531.6 Q1178.28 1540.33 1175.21 1544.94 Q1172.15 1549.52 1166.34 1549.52 Q1160.53 1549.52 1157.45 1544.94 Q1154.4 1540.33 1154.4 1531.6 Q1154.4 1522.85 1157.45 1518.27 Q1160.53 1513.66 1166.34 1513.66 Z\" fill=\"#000000\" fill-rule=\"nonzero\" fill-opacity=\"1\" /><path clip-path=\"url(#clip830)\" d=\"M1196.5 1517.37 Q1192.89 1517.37 1191.06 1520.93 Q1189.26 1524.47 1189.26 1531.6 Q1189.26 1538.71 1191.06 1542.27 Q1192.89 1545.82 1196.5 1545.82 Q1200.14 1545.82 1201.94 1542.27 Q1203.77 1538.71 1203.77 1531.6 Q1203.77 1524.47 1201.94 1520.93 Q1200.14 1517.37 1196.5 1517.37 M1196.5 1513.66 Q1202.31 1513.66 1205.37 1518.27 Q1208.45 1522.85 1208.45 1531.6 Q1208.45 1540.33 1205.37 1544.94 Q1202.31 1549.52 1196.5 1549.52 Q1190.69 1549.52 1187.61 1544.94 Q1184.56 1540.33 1184.56 1531.6 Q1184.56 1522.85 1187.61 1518.27 Q1190.69 1513.66 1196.5 1513.66 Z\" fill=\"#000000\" fill-rule=\"nonzero\" fill-opacity=\"1\" /><path clip-path=\"url(#clip830)\" d=\"M1216.71 1514.29 L1235.07 1514.29 L1235.07 1518.22 L1220.99 1518.22 L1220.99 1526.7 Q1222.01 1526.35 1223.03 1526.19 Q1224.05 1526 1225.07 1526 Q1230.85 1526 1234.23 1529.17 Q1237.61 1532.34 1237.61 1537.76 Q1237.61 1543.34 1234.14 1546.44 Q1230.67 1549.52 1224.35 1549.52 Q1222.17 1549.52 1219.9 1549.15 Q1217.66 1548.78 1215.25 1548.04 L1215.25 1543.34 Q1217.33 1544.47 1219.56 1545.03 Q1221.78 1545.58 1224.26 1545.58 Q1228.26 1545.58 1230.6 1543.48 Q1232.94 1541.37 1232.94 1537.76 Q1232.94 1534.15 1230.6 1532.04 Q1228.26 1529.94 1224.26 1529.94 Q1222.38 1529.94 1220.51 1530.35 Q1218.65 1530.77 1216.71 1531.65 L1216.71 1514.29 Z\" fill=\"#000000\" fill-rule=\"nonzero\" fill-opacity=\"1\" /><path clip-path=\"url(#clip830)\" d=\"M1500.96 1544.91 L1517.28 1544.91 L1517.28 1548.85 L1495.33 1548.85 L1495.33 1544.91 Q1497.99 1542.16 1502.58 1537.53 Q1507.18 1532.88 1508.36 1531.53 Q1510.61 1529.01 1511.49 1527.27 Q1512.39 1525.51 1512.39 1523.82 Q1512.39 1521.07 1510.45 1519.33 Q1508.53 1517.6 1505.42 1517.6 Q1503.22 1517.6 1500.77 1518.36 Q1498.34 1519.13 1495.56 1520.68 L1495.56 1515.95 Q1498.39 1514.82 1500.84 1514.24 Q1503.29 1513.66 1505.33 1513.66 Q1510.7 1513.66 1513.9 1516.35 Q1517.09 1519.03 1517.09 1523.52 Q1517.09 1525.65 1516.28 1527.57 Q1515.49 1529.47 1513.39 1532.07 Q1512.81 1532.74 1509.71 1535.95 Q1506.6 1539.15 1500.96 1544.91 Z\" fill=\"#000000\" fill-rule=\"nonzero\" fill-opacity=\"1\" /><path clip-path=\"url(#clip830)\" d=\"M1537.09 1517.37 Q1533.48 1517.37 1531.65 1520.93 Q1529.84 1524.47 1529.84 1531.6 Q1529.84 1538.71 1531.65 1542.27 Q1533.48 1545.82 1537.09 1545.82 Q1540.72 1545.82 1542.53 1542.27 Q1544.36 1538.71 1544.36 1531.6 Q1544.36 1524.47 1542.53 1520.93 Q1540.72 1517.37 1537.09 1517.37 M1537.09 1513.66 Q1542.9 1513.66 1545.96 1518.27 Q1549.03 1522.85 1549.03 1531.6 Q1549.03 1540.33 1545.96 1544.94 Q1542.9 1549.52 1537.09 1549.52 Q1531.28 1549.52 1528.2 1544.94 Q1525.15 1540.33 1525.15 1531.6 Q1525.15 1522.85 1528.2 1518.27 Q1531.28 1513.66 1537.09 1513.66 Z\" fill=\"#000000\" fill-rule=\"nonzero\" fill-opacity=\"1\" /><path clip-path=\"url(#clip830)\" d=\"M1558.06 1544.91 L1565.7 1544.91 L1565.7 1518.55 L1557.39 1520.21 L1557.39 1515.95 L1565.65 1514.29 L1570.33 1514.29 L1570.33 1544.91 L1577.97 1544.91 L1577.97 1548.85 L1558.06 1548.85 L1558.06 1544.91 Z\" fill=\"#000000\" fill-rule=\"nonzero\" fill-opacity=\"1\" /><path clip-path=\"url(#clip830)\" d=\"M1597.41 1517.37 Q1593.8 1517.37 1591.97 1520.93 Q1590.17 1524.47 1590.17 1531.6 Q1590.17 1538.71 1591.97 1542.27 Q1593.8 1545.82 1597.41 1545.82 Q1601.05 1545.82 1602.85 1542.27 Q1604.68 1538.71 1604.68 1531.6 Q1604.68 1524.47 1602.85 1520.93 Q1601.05 1517.37 1597.41 1517.37 M1597.41 1513.66 Q1603.22 1513.66 1606.28 1518.27 Q1609.36 1522.85 1609.36 1531.6 Q1609.36 1540.33 1606.28 1544.94 Q1603.22 1549.52 1597.41 1549.52 Q1591.6 1549.52 1588.52 1544.94 Q1585.47 1540.33 1585.47 1531.6 Q1585.47 1522.85 1588.52 1518.27 Q1591.6 1513.66 1597.41 1513.66 Z\" fill=\"#000000\" fill-rule=\"nonzero\" fill-opacity=\"1\" /><path clip-path=\"url(#clip830)\" d=\"M1872.7 1544.91 L1889.02 1544.91 L1889.02 1548.85 L1867.08 1548.85 L1867.08 1544.91 Q1869.74 1542.16 1874.32 1537.53 Q1878.93 1532.88 1880.11 1531.53 Q1882.35 1529.01 1883.23 1527.27 Q1884.14 1525.51 1884.14 1523.82 Q1884.14 1521.07 1882.19 1519.33 Q1880.27 1517.6 1877.17 1517.6 Q1874.97 1517.6 1872.52 1518.36 Q1870.09 1519.13 1867.31 1520.68 L1867.31 1515.95 Q1870.13 1514.82 1872.59 1514.24 Q1875.04 1513.66 1877.08 1513.66 Q1882.45 1513.66 1885.64 1516.35 Q1888.84 1519.03 1888.84 1523.52 Q1888.84 1525.65 1888.03 1527.57 Q1887.24 1529.47 1885.13 1532.07 Q1884.55 1532.74 1881.45 1535.95 Q1878.35 1539.15 1872.7 1544.91 Z\" fill=\"#000000\" fill-rule=\"nonzero\" fill-opacity=\"1\" /><path clip-path=\"url(#clip830)\" d=\"M1908.84 1517.37 Q1905.22 1517.37 1903.4 1520.93 Q1901.59 1524.47 1901.59 1531.6 Q1901.59 1538.71 1903.4 1542.27 Q1905.22 1545.82 1908.84 1545.82 Q1912.47 1545.82 1914.28 1542.27 Q1916.1 1538.71 1916.1 1531.6 Q1916.1 1524.47 1914.28 1520.93 Q1912.47 1517.37 1908.84 1517.37 M1908.84 1513.66 Q1914.65 1513.66 1917.7 1518.27 Q1920.78 1522.85 1920.78 1531.6 Q1920.78 1540.33 1917.7 1544.94 Q1914.65 1549.52 1908.84 1549.52 Q1903.03 1549.52 1899.95 1544.94 Q1896.89 1540.33 1896.89 1531.6 Q1896.89 1522.85 1899.95 1518.27 Q1903.03 1513.66 1908.84 1513.66 Z\" fill=\"#000000\" fill-rule=\"nonzero\" fill-opacity=\"1\" /><path clip-path=\"url(#clip830)\" d=\"M1929.81 1544.91 L1937.45 1544.91 L1937.45 1518.55 L1929.14 1520.21 L1929.14 1515.95 L1937.4 1514.29 L1942.08 1514.29 L1942.08 1544.91 L1949.72 1544.91 L1949.72 1548.85 L1929.81 1548.85 L1929.81 1544.91 Z\" fill=\"#000000\" fill-rule=\"nonzero\" fill-opacity=\"1\" /><path clip-path=\"url(#clip830)\" d=\"M1959.21 1514.29 L1977.56 1514.29 L1977.56 1518.22 L1963.49 1518.22 L1963.49 1526.7 Q1964.51 1526.35 1965.53 1526.19 Q1966.54 1526 1967.56 1526 Q1973.35 1526 1976.73 1529.17 Q1980.11 1532.34 1980.11 1537.76 Q1980.11 1543.34 1976.64 1546.44 Q1973.16 1549.52 1966.84 1549.52 Q1964.67 1549.52 1962.4 1549.15 Q1960.16 1548.78 1957.75 1548.04 L1957.75 1543.34 Q1959.83 1544.47 1962.05 1545.03 Q1964.28 1545.58 1966.75 1545.58 Q1970.76 1545.58 1973.09 1543.48 Q1975.43 1541.37 1975.43 1537.76 Q1975.43 1534.15 1973.09 1532.04 Q1970.76 1529.94 1966.75 1529.94 Q1964.88 1529.94 1963 1530.35 Q1961.15 1530.77 1959.21 1531.65 L1959.21 1514.29 Z\" fill=\"#000000\" fill-rule=\"nonzero\" fill-opacity=\"1\" /><path clip-path=\"url(#clip830)\" d=\"M2243.45 1544.91 L2259.77 1544.91 L2259.77 1548.85 L2237.83 1548.85 L2237.83 1544.91 Q2240.49 1542.16 2245.07 1537.53 Q2249.68 1532.88 2250.86 1531.53 Q2253.11 1529.01 2253.98 1527.27 Q2254.89 1525.51 2254.89 1523.82 Q2254.89 1521.07 2252.94 1519.33 Q2251.02 1517.6 2247.92 1517.6 Q2245.72 1517.6 2243.27 1518.36 Q2240.84 1519.13 2238.06 1520.68 L2238.06 1515.95 Q2240.88 1514.82 2243.34 1514.24 Q2245.79 1513.66 2247.83 1513.66 Q2253.2 1513.66 2256.39 1516.35 Q2259.59 1519.03 2259.59 1523.52 Q2259.59 1525.65 2258.78 1527.57 Q2257.99 1529.47 2255.88 1532.07 Q2255.3 1532.74 2252.2 1535.95 Q2249.1 1539.15 2243.45 1544.91 Z\" fill=\"#000000\" fill-rule=\"nonzero\" fill-opacity=\"1\" /><path clip-path=\"url(#clip830)\" d=\"M2279.59 1517.37 Q2275.98 1517.37 2274.15 1520.93 Q2272.34 1524.47 2272.34 1531.6 Q2272.34 1538.71 2274.15 1542.27 Q2275.98 1545.82 2279.59 1545.82 Q2283.22 1545.82 2285.03 1542.27 Q2286.86 1538.71 2286.86 1531.6 Q2286.86 1524.47 2285.03 1520.93 Q2283.22 1517.37 2279.59 1517.37 M2279.59 1513.66 Q2285.4 1513.66 2288.45 1518.27 Q2291.53 1522.85 2291.53 1531.6 Q2291.53 1540.33 2288.45 1544.94 Q2285.4 1549.52 2279.59 1549.52 Q2273.78 1549.52 2270.7 1544.94 Q2267.64 1540.33 2267.64 1531.6 Q2267.64 1522.85 2270.7 1518.27 Q2273.78 1513.66 2279.59 1513.66 Z\" fill=\"#000000\" fill-rule=\"nonzero\" fill-opacity=\"1\" /><path clip-path=\"url(#clip830)\" d=\"M2303.78 1544.91 L2320.1 1544.91 L2320.1 1548.85 L2298.15 1548.85 L2298.15 1544.91 Q2300.81 1542.16 2305.4 1537.53 Q2310 1532.88 2311.18 1531.53 Q2313.43 1529.01 2314.31 1527.27 Q2315.21 1525.51 2315.21 1523.82 Q2315.21 1521.07 2313.27 1519.33 Q2311.35 1517.6 2308.24 1517.6 Q2306.04 1517.6 2303.59 1518.36 Q2301.16 1519.13 2298.38 1520.68 L2298.38 1515.95 Q2301.21 1514.82 2303.66 1514.24 Q2306.11 1513.66 2308.15 1513.66 Q2313.52 1513.66 2316.72 1516.35 Q2319.91 1519.03 2319.91 1523.52 Q2319.91 1525.65 2319.1 1527.57 Q2318.31 1529.47 2316.21 1532.07 Q2315.63 1532.74 2312.53 1535.95 Q2309.42 1539.15 2303.78 1544.91 Z\" fill=\"#000000\" fill-rule=\"nonzero\" fill-opacity=\"1\" /><path clip-path=\"url(#clip830)\" d=\"M2339.91 1517.37 Q2336.3 1517.37 2334.47 1520.93 Q2332.67 1524.47 2332.67 1531.6 Q2332.67 1538.71 2334.47 1542.27 Q2336.3 1545.82 2339.91 1545.82 Q2343.54 1545.82 2345.35 1542.27 Q2347.18 1538.71 2347.18 1531.6 Q2347.18 1524.47 2345.35 1520.93 Q2343.54 1517.37 2339.91 1517.37 M2339.91 1513.66 Q2345.72 1513.66 2348.78 1518.27 Q2351.85 1522.85 2351.85 1531.6 Q2351.85 1540.33 2348.78 1544.94 Q2345.72 1549.52 2339.91 1549.52 Q2334.1 1549.52 2331.02 1544.94 Q2327.97 1540.33 2327.97 1531.6 Q2327.97 1522.85 2331.02 1518.27 Q2334.1 1513.66 2339.91 1513.66 Z\" fill=\"#000000\" fill-rule=\"nonzero\" fill-opacity=\"1\" /><polyline clip-path=\"url(#clip832)\" style=\"stroke:#000000; stroke-linecap:round; stroke-linejoin:round; stroke-width:2; stroke-opacity:0.1; fill:none\" points=\"306.435,1268.35 2352.76,1268.35 \"/>\n",
       "<polyline clip-path=\"url(#clip832)\" style=\"stroke:#000000; stroke-linecap:round; stroke-linejoin:round; stroke-width:2; stroke-opacity:0.1; fill:none\" points=\"306.435,962.556 2352.76,962.556 \"/>\n",
       "<polyline clip-path=\"url(#clip832)\" style=\"stroke:#000000; stroke-linecap:round; stroke-linejoin:round; stroke-width:2; stroke-opacity:0.1; fill:none\" points=\"306.435,656.759 2352.76,656.759 \"/>\n",
       "<polyline clip-path=\"url(#clip832)\" style=\"stroke:#000000; stroke-linecap:round; stroke-linejoin:round; stroke-width:2; stroke-opacity:0.1; fill:none\" points=\"306.435,350.962 2352.76,350.962 \"/>\n",
       "<polyline clip-path=\"url(#clip830)\" style=\"stroke:#000000; stroke-linecap:round; stroke-linejoin:round; stroke-width:4; stroke-opacity:1; fill:none\" points=\"306.435,1486.45 306.435,47.2441 \"/>\n",
       "<polyline clip-path=\"url(#clip830)\" style=\"stroke:#000000; stroke-linecap:round; stroke-linejoin:round; stroke-width:4; stroke-opacity:1; fill:none\" points=\"306.435,1268.35 325.333,1268.35 \"/>\n",
       "<polyline clip-path=\"url(#clip830)\" style=\"stroke:#000000; stroke-linecap:round; stroke-linejoin:round; stroke-width:4; stroke-opacity:1; fill:none\" points=\"306.435,962.556 325.333,962.556 \"/>\n",
       "<polyline clip-path=\"url(#clip830)\" style=\"stroke:#000000; stroke-linecap:round; stroke-linejoin:round; stroke-width:4; stroke-opacity:1; fill:none\" points=\"306.435,656.759 325.333,656.759 \"/>\n",
       "<polyline clip-path=\"url(#clip830)\" style=\"stroke:#000000; stroke-linecap:round; stroke-linejoin:round; stroke-width:4; stroke-opacity:1; fill:none\" points=\"306.435,350.962 325.333,350.962 \"/>\n",
       "<path clip-path=\"url(#clip830)\" d=\"M53.3995 1288.15 L61.0384 1288.15 L61.0384 1261.78 L52.7282 1263.45 L52.7282 1259.19 L60.9921 1257.52 L65.668 1257.52 L65.668 1288.15 L73.3068 1288.15 L73.3068 1292.08 L53.3995 1292.08 L53.3995 1288.15 Z\" fill=\"#000000\" fill-rule=\"nonzero\" fill-opacity=\"1\" /><path clip-path=\"url(#clip830)\" d=\"M82.7512 1286.2 L87.6354 1286.2 L87.6354 1292.08 L82.7512 1292.08 L82.7512 1286.2 Z\" fill=\"#000000\" fill-rule=\"nonzero\" fill-opacity=\"1\" /><path clip-path=\"url(#clip830)\" d=\"M107.821 1260.6 Q104.209 1260.6 102.381 1264.16 Q100.575 1267.71 100.575 1274.84 Q100.575 1281.94 102.381 1285.51 Q104.209 1289.05 107.821 1289.05 Q111.455 1289.05 113.26 1285.51 Q115.089 1281.94 115.089 1274.84 Q115.089 1267.71 113.26 1264.16 Q111.455 1260.6 107.821 1260.6 M107.821 1256.9 Q113.631 1256.9 116.686 1261.5 Q119.765 1266.09 119.765 1274.84 Q119.765 1283.56 116.686 1288.17 Q113.631 1292.75 107.821 1292.75 Q102.01 1292.75 98.9317 1288.17 Q95.8761 1283.56 95.8761 1274.84 Q95.8761 1266.09 98.9317 1261.5 Q102.01 1256.9 107.821 1256.9 Z\" fill=\"#000000\" fill-rule=\"nonzero\" fill-opacity=\"1\" /><path clip-path=\"url(#clip830)\" d=\"M137.982 1260.6 Q134.371 1260.6 132.543 1264.16 Q130.737 1267.71 130.737 1274.84 Q130.737 1281.94 132.543 1285.51 Q134.371 1289.05 137.982 1289.05 Q141.617 1289.05 143.422 1285.51 Q145.251 1281.94 145.251 1274.84 Q145.251 1267.71 143.422 1264.16 Q141.617 1260.6 137.982 1260.6 M137.982 1256.9 Q143.793 1256.9 146.848 1261.5 Q149.927 1266.09 149.927 1274.84 Q149.927 1283.56 146.848 1288.17 Q143.793 1292.75 137.982 1292.75 Q132.172 1292.75 129.094 1288.17 Q126.038 1283.56 126.038 1274.84 Q126.038 1266.09 129.094 1261.5 Q132.172 1256.9 137.982 1256.9 Z\" fill=\"#000000\" fill-rule=\"nonzero\" fill-opacity=\"1\" /><path clip-path=\"url(#clip830)\" d=\"M186.315 1266.62 L175.737 1277.24 L186.315 1287.82 L183.561 1290.62 L172.936 1280 L162.311 1290.62 L159.58 1287.82 L170.135 1277.24 L159.58 1266.62 L162.311 1263.82 L172.936 1274.44 L183.561 1263.82 L186.315 1266.62 Z\" fill=\"#000000\" fill-rule=\"nonzero\" fill-opacity=\"1\" /><path clip-path=\"url(#clip830)\" d=\"M198.677 1288.15 L206.315 1288.15 L206.315 1261.78 L198.005 1263.45 L198.005 1259.19 L206.269 1257.52 L210.945 1257.52 L210.945 1288.15 L218.584 1288.15 L218.584 1292.08 L198.677 1292.08 L198.677 1288.15 Z\" fill=\"#000000\" fill-rule=\"nonzero\" fill-opacity=\"1\" /><path clip-path=\"url(#clip830)\" d=\"M238.028 1260.6 Q234.417 1260.6 232.588 1264.16 Q230.783 1267.71 230.783 1274.84 Q230.783 1281.94 232.588 1285.51 Q234.417 1289.05 238.028 1289.05 Q241.662 1289.05 243.468 1285.51 Q245.297 1281.94 245.297 1274.84 Q245.297 1267.71 243.468 1264.16 Q241.662 1260.6 238.028 1260.6 M238.028 1256.9 Q243.838 1256.9 246.894 1261.5 Q249.973 1266.09 249.973 1274.84 Q249.973 1283.56 246.894 1288.17 Q243.838 1292.75 238.028 1292.75 Q232.218 1292.75 229.139 1288.17 Q226.084 1283.56 226.084 1274.84 Q226.084 1266.09 229.139 1261.5 Q232.218 1256.9 238.028 1256.9 Z\" fill=\"#000000\" fill-rule=\"nonzero\" fill-opacity=\"1\" /><path clip-path=\"url(#clip830)\" d=\"M262.649 1239.9 L253.057 1254.89 L262.649 1254.89 L262.649 1239.9 M261.652 1236.59 L266.429 1236.59 L266.429 1254.89 L270.435 1254.89 L270.435 1258.05 L266.429 1258.05 L266.429 1264.67 L262.649 1264.67 L262.649 1258.05 L249.973 1258.05 L249.973 1254.38 L261.652 1236.59 Z\" fill=\"#000000\" fill-rule=\"nonzero\" fill-opacity=\"1\" /><path clip-path=\"url(#clip830)\" d=\"M53.3995 982.349 L61.0384 982.349 L61.0384 955.983 L52.7282 957.65 L52.7282 953.39 L60.9921 951.724 L65.668 951.724 L65.668 982.349 L73.3068 982.349 L73.3068 986.284 L53.3995 986.284 L53.3995 982.349 Z\" fill=\"#000000\" fill-rule=\"nonzero\" fill-opacity=\"1\" /><path clip-path=\"url(#clip830)\" d=\"M82.7512 980.404 L87.6354 980.404 L87.6354 986.284 L82.7512 986.284 L82.7512 980.404 Z\" fill=\"#000000\" fill-rule=\"nonzero\" fill-opacity=\"1\" /><path clip-path=\"url(#clip830)\" d=\"M97.8669 951.724 L116.223 951.724 L116.223 955.659 L102.149 955.659 L102.149 964.131 Q103.168 963.784 104.186 963.622 Q105.205 963.437 106.223 963.437 Q112.01 963.437 115.39 966.608 Q118.77 969.779 118.77 975.196 Q118.77 980.775 115.297 983.876 Q111.825 986.955 105.506 986.955 Q103.33 986.955 101.061 986.585 Q98.8159 986.214 96.4085 985.474 L96.4085 980.775 Q98.4919 981.909 100.714 982.464 Q102.936 983.02 105.413 983.02 Q109.418 983.02 111.756 980.913 Q114.094 978.807 114.094 975.196 Q114.094 971.585 111.756 969.478 Q109.418 967.372 105.413 967.372 Q103.538 967.372 101.663 967.788 Q99.8113 968.205 97.8669 969.085 L97.8669 951.724 Z\" fill=\"#000000\" fill-rule=\"nonzero\" fill-opacity=\"1\" /><path clip-path=\"url(#clip830)\" d=\"M137.982 954.802 Q134.371 954.802 132.543 958.367 Q130.737 961.909 130.737 969.038 Q130.737 976.145 132.543 979.71 Q134.371 983.251 137.982 983.251 Q141.617 983.251 143.422 979.71 Q145.251 976.145 145.251 969.038 Q145.251 961.909 143.422 958.367 Q141.617 954.802 137.982 954.802 M137.982 951.099 Q143.793 951.099 146.848 955.705 Q149.927 960.289 149.927 969.038 Q149.927 977.765 146.848 982.372 Q143.793 986.955 137.982 986.955 Q132.172 986.955 129.094 982.372 Q126.038 977.765 126.038 969.038 Q126.038 960.289 129.094 955.705 Q132.172 951.099 137.982 951.099 Z\" fill=\"#000000\" fill-rule=\"nonzero\" fill-opacity=\"1\" /><path clip-path=\"url(#clip830)\" d=\"M186.315 960.821 L175.737 971.446 L186.315 982.025 L183.561 984.825 L172.936 974.201 L162.311 984.825 L159.58 982.025 L170.135 971.446 L159.58 960.821 L162.311 958.02 L172.936 968.645 L183.561 958.02 L186.315 960.821 Z\" fill=\"#000000\" fill-rule=\"nonzero\" fill-opacity=\"1\" /><path clip-path=\"url(#clip830)\" d=\"M198.677 982.349 L206.315 982.349 L206.315 955.983 L198.005 957.65 L198.005 953.39 L206.269 951.724 L210.945 951.724 L210.945 982.349 L218.584 982.349 L218.584 986.284 L198.677 986.284 L198.677 982.349 Z\" fill=\"#000000\" fill-rule=\"nonzero\" fill-opacity=\"1\" /><path clip-path=\"url(#clip830)\" d=\"M238.028 954.802 Q234.417 954.802 232.588 958.367 Q230.783 961.909 230.783 969.038 Q230.783 976.145 232.588 979.71 Q234.417 983.251 238.028 983.251 Q241.662 983.251 243.468 979.71 Q245.297 976.145 245.297 969.038 Q245.297 961.909 243.468 958.367 Q241.662 954.802 238.028 954.802 M238.028 951.099 Q243.838 951.099 246.894 955.705 Q249.973 960.289 249.973 969.038 Q249.973 977.765 246.894 982.372 Q243.838 986.955 238.028 986.955 Q232.218 986.955 229.139 982.372 Q226.084 977.765 226.084 969.038 Q226.084 960.289 229.139 955.705 Q232.218 951.099 238.028 951.099 Z\" fill=\"#000000\" fill-rule=\"nonzero\" fill-opacity=\"1\" /><path clip-path=\"url(#clip830)\" d=\"M262.649 934.104 L253.057 949.093 L262.649 949.093 L262.649 934.104 M261.652 930.793 L266.429 930.793 L266.429 949.093 L270.435 949.093 L270.435 952.253 L266.429 952.253 L266.429 958.873 L262.649 958.873 L262.649 952.253 L249.973 952.253 L249.973 948.586 L261.652 930.793 Z\" fill=\"#000000\" fill-rule=\"nonzero\" fill-opacity=\"1\" /><path clip-path=\"url(#clip830)\" d=\"M56.6171 676.551 L72.9365 676.551 L72.9365 680.487 L50.9921 680.487 L50.9921 676.551 Q53.6541 673.797 58.2375 669.167 Q62.8439 664.514 64.0245 663.172 Q66.2698 660.649 67.1494 658.913 Q68.0522 657.153 68.0522 655.464 Q68.0522 652.709 66.1078 650.973 Q64.1865 649.237 61.0847 649.237 Q58.8856 649.237 56.4319 650.001 Q54.0014 650.765 51.2236 652.315 L51.2236 647.593 Q54.0477 646.459 56.5014 645.88 Q58.955 645.302 60.9921 645.302 Q66.3624 645.302 69.5568 647.987 Q72.7513 650.672 72.7513 655.163 Q72.7513 657.292 71.9411 659.214 Q71.1541 661.112 69.0476 663.704 Q68.4689 664.376 65.367 667.593 Q62.2652 670.788 56.6171 676.551 Z\" fill=\"#000000\" fill-rule=\"nonzero\" fill-opacity=\"1\" /><path clip-path=\"url(#clip830)\" d=\"M82.7512 674.607 L87.6354 674.607 L87.6354 680.487 L82.7512 680.487 L82.7512 674.607 Z\" fill=\"#000000\" fill-rule=\"nonzero\" fill-opacity=\"1\" /><path clip-path=\"url(#clip830)\" d=\"M107.821 649.005 Q104.209 649.005 102.381 652.57 Q100.575 656.112 100.575 663.241 Q100.575 670.348 102.381 673.913 Q104.209 677.454 107.821 677.454 Q111.455 677.454 113.26 673.913 Q115.089 670.348 115.089 663.241 Q115.089 656.112 113.26 652.57 Q111.455 649.005 107.821 649.005 M107.821 645.302 Q113.631 645.302 116.686 649.908 Q119.765 654.491 119.765 663.241 Q119.765 671.968 116.686 676.575 Q113.631 681.158 107.821 681.158 Q102.01 681.158 98.9317 676.575 Q95.8761 671.968 95.8761 663.241 Q95.8761 654.491 98.9317 649.908 Q102.01 645.302 107.821 645.302 Z\" fill=\"#000000\" fill-rule=\"nonzero\" fill-opacity=\"1\" /><path clip-path=\"url(#clip830)\" d=\"M137.982 649.005 Q134.371 649.005 132.543 652.57 Q130.737 656.112 130.737 663.241 Q130.737 670.348 132.543 673.913 Q134.371 677.454 137.982 677.454 Q141.617 677.454 143.422 673.913 Q145.251 670.348 145.251 663.241 Q145.251 656.112 143.422 652.57 Q141.617 649.005 137.982 649.005 M137.982 645.302 Q143.793 645.302 146.848 649.908 Q149.927 654.491 149.927 663.241 Q149.927 671.968 146.848 676.575 Q143.793 681.158 137.982 681.158 Q132.172 681.158 129.094 676.575 Q126.038 671.968 126.038 663.241 Q126.038 654.491 129.094 649.908 Q132.172 645.302 137.982 645.302 Z\" fill=\"#000000\" fill-rule=\"nonzero\" fill-opacity=\"1\" /><path clip-path=\"url(#clip830)\" d=\"M186.315 655.024 L175.737 665.649 L186.315 676.227 L183.561 679.028 L172.936 668.403 L162.311 679.028 L159.58 676.227 L170.135 665.649 L159.58 655.024 L162.311 652.223 L172.936 662.848 L183.561 652.223 L186.315 655.024 Z\" fill=\"#000000\" fill-rule=\"nonzero\" fill-opacity=\"1\" /><path clip-path=\"url(#clip830)\" d=\"M198.677 676.551 L206.315 676.551 L206.315 650.186 L198.005 651.852 L198.005 647.593 L206.269 645.927 L210.945 645.927 L210.945 676.551 L218.584 676.551 L218.584 680.487 L198.677 680.487 L198.677 676.551 Z\" fill=\"#000000\" fill-rule=\"nonzero\" fill-opacity=\"1\" /><path clip-path=\"url(#clip830)\" d=\"M238.028 649.005 Q234.417 649.005 232.588 652.57 Q230.783 656.112 230.783 663.241 Q230.783 670.348 232.588 673.913 Q234.417 677.454 238.028 677.454 Q241.662 677.454 243.468 673.913 Q245.297 670.348 245.297 663.241 Q245.297 656.112 243.468 652.57 Q241.662 649.005 238.028 649.005 M238.028 645.302 Q243.838 645.302 246.894 649.908 Q249.973 654.491 249.973 663.241 Q249.973 671.968 246.894 676.575 Q243.838 681.158 238.028 681.158 Q232.218 681.158 229.139 676.575 Q226.084 671.968 226.084 663.241 Q226.084 654.491 229.139 649.908 Q232.218 645.302 238.028 645.302 Z\" fill=\"#000000\" fill-rule=\"nonzero\" fill-opacity=\"1\" /><path clip-path=\"url(#clip830)\" d=\"M262.649 628.306 L253.057 643.296 L262.649 643.296 L262.649 628.306 M261.652 624.996 L266.429 624.996 L266.429 643.296 L270.435 643.296 L270.435 646.456 L266.429 646.456 L266.429 653.076 L262.649 653.076 L262.649 646.456 L249.973 646.456 L249.973 642.788 L261.652 624.996 Z\" fill=\"#000000\" fill-rule=\"nonzero\" fill-opacity=\"1\" /><path clip-path=\"url(#clip830)\" d=\"M56.6171 370.754 L72.9365 370.754 L72.9365 374.689 L50.9921 374.689 L50.9921 370.754 Q53.6541 368 58.2375 363.37 Q62.8439 358.717 64.0245 357.375 Q66.2698 354.852 67.1494 353.115 Q68.0522 351.356 68.0522 349.666 Q68.0522 346.912 66.1078 345.176 Q64.1865 343.44 61.0847 343.44 Q58.8856 343.44 56.4319 344.203 Q54.0014 344.967 51.2236 346.518 L51.2236 341.796 Q54.0477 340.662 56.5014 340.083 Q58.955 339.504 60.9921 339.504 Q66.3624 339.504 69.5568 342.19 Q72.7513 344.875 72.7513 349.366 Q72.7513 351.495 71.9411 353.416 Q71.1541 355.315 69.0476 357.907 Q68.4689 358.578 65.367 361.796 Q62.2652 364.99 56.6171 370.754 Z\" fill=\"#000000\" fill-rule=\"nonzero\" fill-opacity=\"1\" /><path clip-path=\"url(#clip830)\" d=\"M82.7512 368.81 L87.6354 368.81 L87.6354 374.689 L82.7512 374.689 L82.7512 368.81 Z\" fill=\"#000000\" fill-rule=\"nonzero\" fill-opacity=\"1\" /><path clip-path=\"url(#clip830)\" d=\"M97.8669 340.129 L116.223 340.129 L116.223 344.065 L102.149 344.065 L102.149 352.537 Q103.168 352.19 104.186 352.028 Q105.205 351.842 106.223 351.842 Q112.01 351.842 115.39 355.014 Q118.77 358.185 118.77 363.602 Q118.77 369.18 115.297 372.282 Q111.825 375.361 105.506 375.361 Q103.33 375.361 101.061 374.99 Q98.8159 374.62 96.4085 373.879 L96.4085 369.18 Q98.4919 370.314 100.714 370.87 Q102.936 371.426 105.413 371.426 Q109.418 371.426 111.756 369.319 Q114.094 367.213 114.094 363.602 Q114.094 359.99 111.756 357.884 Q109.418 355.778 105.413 355.778 Q103.538 355.778 101.663 356.194 Q99.8113 356.611 97.8669 357.49 L97.8669 340.129 Z\" fill=\"#000000\" fill-rule=\"nonzero\" fill-opacity=\"1\" /><path clip-path=\"url(#clip830)\" d=\"M137.982 343.208 Q134.371 343.208 132.543 346.773 Q130.737 350.315 130.737 357.444 Q130.737 364.551 132.543 368.115 Q134.371 371.657 137.982 371.657 Q141.617 371.657 143.422 368.115 Q145.251 364.551 145.251 357.444 Q145.251 350.315 143.422 346.773 Q141.617 343.208 137.982 343.208 M137.982 339.504 Q143.793 339.504 146.848 344.111 Q149.927 348.694 149.927 357.444 Q149.927 366.171 146.848 370.777 Q143.793 375.361 137.982 375.361 Q132.172 375.361 129.094 370.777 Q126.038 366.171 126.038 357.444 Q126.038 348.694 129.094 344.111 Q132.172 339.504 137.982 339.504 Z\" fill=\"#000000\" fill-rule=\"nonzero\" fill-opacity=\"1\" /><path clip-path=\"url(#clip830)\" d=\"M186.315 349.227 L175.737 359.852 L186.315 370.43 L183.561 373.231 L172.936 362.606 L162.311 373.231 L159.58 370.43 L170.135 359.852 L159.58 349.227 L162.311 346.426 L172.936 357.051 L183.561 346.426 L186.315 349.227 Z\" fill=\"#000000\" fill-rule=\"nonzero\" fill-opacity=\"1\" /><path clip-path=\"url(#clip830)\" d=\"M198.677 370.754 L206.315 370.754 L206.315 344.389 L198.005 346.055 L198.005 341.796 L206.269 340.129 L210.945 340.129 L210.945 370.754 L218.584 370.754 L218.584 374.689 L198.677 374.689 L198.677 370.754 Z\" fill=\"#000000\" fill-rule=\"nonzero\" fill-opacity=\"1\" /><path clip-path=\"url(#clip830)\" d=\"M238.028 343.208 Q234.417 343.208 232.588 346.773 Q230.783 350.315 230.783 357.444 Q230.783 364.551 232.588 368.115 Q234.417 371.657 238.028 371.657 Q241.662 371.657 243.468 368.115 Q245.297 364.551 245.297 357.444 Q245.297 350.315 243.468 346.773 Q241.662 343.208 238.028 343.208 M238.028 339.504 Q243.838 339.504 246.894 344.111 Q249.973 348.694 249.973 357.444 Q249.973 366.171 246.894 370.777 Q243.838 375.361 238.028 375.361 Q232.218 375.361 229.139 370.777 Q226.084 366.171 226.084 357.444 Q226.084 348.694 229.139 344.111 Q232.218 339.504 238.028 339.504 Z\" fill=\"#000000\" fill-rule=\"nonzero\" fill-opacity=\"1\" /><path clip-path=\"url(#clip830)\" d=\"M262.649 322.509 L253.057 337.499 L262.649 337.499 L262.649 322.509 M261.652 319.199 L266.429 319.199 L266.429 337.499 L270.435 337.499 L270.435 340.659 L266.429 340.659 L266.429 347.279 L262.649 347.279 L262.649 340.659 L249.973 340.659 L249.973 336.991 L261.652 319.199 Z\" fill=\"#000000\" fill-rule=\"nonzero\" fill-opacity=\"1\" /><polyline clip-path=\"url(#clip832)\" style=\"stroke:#009af9; stroke-linecap:round; stroke-linejoin:round; stroke-width:4; stroke-opacity:1; fill:none\" points=\"364.35,87.9763 438.6,106.324 512.849,191.947 587.099,467.165 661.349,668.991 735.598,742.382 809.848,644.527 884.098,699.571 958.347,552.788 1032.6,815.774 1106.85,785.194 1181.1,834.121 1255.35,864.701 1329.6,993.136 1403.85,913.629 1478.09,828.005 1552.34,853.081 1626.59,1109.34 1700.84,1201.08 1775.09,1286.7 1849.34,1176.61 1923.59,1225.54 1997.84,1305.05 2072.09,1329.51 2146.34,1298.93 2220.59,1335.63 2294.84,1445.72 \"/>\n",
       "<path clip-path=\"url(#clip830)\" d=\"M2027.48 198.898 L2284.55 198.898 L2284.55 95.2176 L2027.48 95.2176  Z\" fill=\"#ffffff\" fill-rule=\"evenodd\" fill-opacity=\"1\"/>\n",
       "<polyline clip-path=\"url(#clip830)\" style=\"stroke:#000000; stroke-linecap:round; stroke-linejoin:round; stroke-width:4; stroke-opacity:1; fill:none\" points=\"2027.48,198.898 2284.55,198.898 2284.55,95.2176 2027.48,95.2176 2027.48,198.898 \"/>\n",
       "<polyline clip-path=\"url(#clip830)\" style=\"stroke:#009af9; stroke-linecap:round; stroke-linejoin:round; stroke-width:4; stroke-opacity:1; fill:none\" points=\"2050.22,147.058 2186.64,147.058 \"/>\n",
       "<path clip-path=\"url(#clip830)\" d=\"M2223.22 166.745 Q2221.42 171.375 2219.7 172.787 Q2217.99 174.199 2215.12 174.199 L2211.72 174.199 L2211.72 170.634 L2214.22 170.634 Q2215.98 170.634 2216.95 169.8 Q2217.92 168.967 2219.1 165.865 L2219.86 163.921 L2209.38 138.412 L2213.89 138.412 L2221.99 158.689 L2230.1 138.412 L2234.61 138.412 L2223.22 166.745 Z\" fill=\"#000000\" fill-rule=\"nonzero\" fill-opacity=\"1\" /><path clip-path=\"url(#clip830)\" d=\"M2241.9 160.402 L2249.54 160.402 L2249.54 134.037 L2241.23 135.703 L2241.23 131.444 L2249.49 129.778 L2254.17 129.778 L2254.17 160.402 L2261.81 160.402 L2261.81 164.338 L2241.9 164.338 L2241.9 160.402 Z\" fill=\"#000000\" fill-rule=\"nonzero\" fill-opacity=\"1\" /></svg>\n"
      ]
     },
     "execution_count": 18,
     "metadata": {},
     "output_type": "execute_result"
    }
   ],
   "source": [
    "@df df plot(:Year,:P_USER)"
   ]
  },
  {
   "cell_type": "code",
   "execution_count": null,
   "id": "651da010",
   "metadata": {},
   "outputs": [],
   "source": []
  },
  {
   "cell_type": "code",
   "execution_count": null,
   "id": "b1f86c4e",
   "metadata": {},
   "outputs": [],
   "source": []
  },
  {
   "cell_type": "code",
   "execution_count": null,
   "id": "41baa8bf",
   "metadata": {},
   "outputs": [],
   "source": []
  },
  {
   "cell_type": "markdown",
   "id": "1e6e0357",
   "metadata": {},
   "source": [
    "### 数学は詳しくないので間違いが含まれていると思う。寛大な心でご指摘願いたい。"
   ]
  },
  {
   "cell_type": "code",
   "execution_count": null,
   "id": "87517420",
   "metadata": {},
   "outputs": [],
   "source": [
    "using Catalyst,DifferentialEquations,StatsPlots\n",
    "using ModelingToolkit"
   ]
  },
  {
   "cell_type": "markdown",
   "id": "239b6a3a",
   "metadata": {},
   "source": [
    "人類はパチンコプレイヤーとパチンコをやらない人（「ノンプレイヤー」）に二分される。ここでいう「パチンコプレイヤー」は年間で1回以上ホールで遊戯を行った人と定義される。プレイヤーのほとんどは20代のはじめに（多くは先輩や上司に連れられて）エントリーし、結婚や引っ越し、転職、金融状況、病気、価値観の変化などで遊戯を中断したり再開したりをする。何がプレイを再開させているのかはよくわかっていない。好きなコンテンツやキャラクターがそうさせる場合もあるし、近くにホールがあるとか、人間関係の変化かもしれない。しかしいずれにしてもそのような理由はプレイヤー・ノンプレイヤー全体に対して一定の確率で発生すると思われる。"
   ]
  },
  {
   "cell_type": "markdown",
   "id": "91727b5b",
   "metadata": {},
   "source": [
    "プレイヤーはある一定の確率でノンプレイヤーになるし、ノンプレイヤーも一定の確率でプレイヤーになる。この関係を微分方程式に簡単に変換できるツールが　Catalyst.jl　である。はっきり言ってここでは紹介のために使ってみただけだ。"
   ]
  },
  {
   "cell_type": "code",
   "execution_count": null,
   "id": "0bd2e660",
   "metadata": {},
   "outputs": [],
   "source": [
    "rn = @reaction_network begin\n",
    "    e, N --> P\n",
    "    r, P --> N\n",
    "end"
   ]
  },
  {
   "cell_type": "markdown",
   "id": "4a6b446b",
   "metadata": {},
   "source": [
    "ConvertでODESystemに変換できる。ここで微分方程式のデザインが確認できる"
   ]
  },
  {
   "cell_type": "code",
   "execution_count": null,
   "id": "b720dcdf",
   "metadata": {},
   "outputs": [],
   "source": [
    "convert(ODESystem, rn)"
   ]
  },
  {
   "cell_type": "markdown",
   "id": "eec6abab",
   "metadata": {},
   "source": [
    "パラメータはの略語をこのように整理している\n",
    "### Parameters\n",
    " - e =>パチンコ遊戯へのエントリーの係数、\n",
    " - r =>パチンコ遊戯を中断(retire）係数\n",
    " - b =>人口変動。死亡や誕生（birth）による人口全体の変動係数\n",
    " \n",
    "### Variables\n",
    " - N => パチンコノンユーザー\n",
    " - P => パチンコユーザー\n",
    " - V => 人口全体（N＋P）"
   ]
  },
  {
   "cell_type": "markdown",
   "id": "7ce2c2c6",
   "metadata": {},
   "source": [
    "パチンコユーザー<=>ノンユーザーモデルの状態変数とパラメーターを設定する。teventはパラメータや状態に大きな変化を与えるイベント（カタストロフィーイベント）を記述するためだ。"
   ]
  },
  {
   "cell_type": "code",
   "execution_count": null,
   "id": "2c4a484a",
   "metadata": {},
   "outputs": [],
   "source": [
    "@variables t P(t) V(t) N(t)\n",
    "@parameters  r e b tevent\n",
    "D = Differential(t)"
   ]
  },
  {
   "cell_type": "markdown",
   "id": "fbaa409e",
   "metadata": {},
   "source": [
    "微分方程式のモデルを書く。人口の変動分dV(t)は死亡／誕生による差分なので、いずれもノンユーザーとしてモデルに組み込む。"
   ]
  },
  {
   "cell_type": "code",
   "execution_count": null,
   "id": "fe1e7eab",
   "metadata": {},
   "outputs": [],
   "source": [
    "eqs = [ D(P) ~ e * ( V - P )  - r * P\n",
    "        D(N) ~ r * P  - e *( V - P) + D(V)\n",
    "        D(V) ~ b\n",
    "        ]"
   ]
  },
  {
   "cell_type": "code",
   "execution_count": null,
   "id": "e1f31b26",
   "metadata": {},
   "outputs": [],
   "source": [
    "u0 = [P => 3.0 ,N => 9.0, V => 12.0]\n",
    "ps = [b => -0.02, e => 0.03, r => 0.1]\n",
    "tspan=(0,30.0)\n",
    "@named sys = ODESystem(eqs, t)\n",
    "sys = structural_simplify(sys)\n",
    "\n",
    "prob = ODEProblem(sys, u0, tspan, ps)\n",
    "sol = solve(prob)\n",
    "plot(sol,idxs=[P])"
   ]
  },
  {
   "cell_type": "code",
   "execution_count": null,
   "id": "366052e3",
   "metadata": {},
   "outputs": [],
   "source": [
    "u0 = [P => 3.0 ,N => 9.0, V => 12.0]\n",
    "ps = [b => -0.02, e => 0.03, r => 0.1]\n",
    "tspan=(0,30.0)\n",
    "\n",
    "#discrete_events  = [ (t > 10.0 ) =>  [ e ~ 0, r ~ 0] , (t > 16.0 ) =>  [ e ~ 0.03, r ~ 0.06] ]\n",
    "event_10 = (t == 10 ) => [ P ~ P * 0.9 ] \n",
    "event_16 = (t == 16 ) => [ P ~ P * 0.9 ] \n",
    "@named sys_cata = ODESystem(eqs, t, [P,N,V], [b,e,r] ; discrete_events = [event_10, event_16])\n",
    "sys_cata = structural_simplify(sys_cata) ;"
   ]
  },
  {
   "cell_type": "code",
   "execution_count": null,
   "id": "721ab900",
   "metadata": {},
   "outputs": [],
   "source": [
    "prob_cata = ODEProblem(sys_cata, u0, tspan, ps)\n",
    "sol2 = solve(prob_cata ;tstops = [10.0, 16.0])\n",
    "plot(sol2,idxs=[P])\n",
    "plot!(sol,idxs=[P])"
   ]
  },
  {
   "cell_type": "code",
   "execution_count": null,
   "id": "08e9f40a",
   "metadata": {},
   "outputs": [],
   "source": []
  },
  {
   "cell_type": "code",
   "execution_count": null,
   "id": "0d13a734",
   "metadata": {},
   "outputs": [],
   "source": [
    "using DataFrames, CSV"
   ]
  },
  {
   "cell_type": "code",
   "execution_count": null,
   "id": "d20a9fbb",
   "metadata": {},
   "outputs": [],
   "source": [
    "dx = CSV.read(joinpath(\"..\",\"Pachinko\",\"p-datasets2.csv\"),DataFrame)\n",
    "for (i,e) in enumerate(names(dx))\n",
    "    print(\"$i : $e ,\")\n",
    "end\n",
    "eq = zeros(31) ; eq[23:end] .= 1.0\n",
    "dx.eq = eq ;\n",
    "#dx.パチンコ参加人口 = dx.パチンコ参加人口 .* 10 ;"
   ]
  },
  {
   "cell_type": "code",
   "execution_count": null,
   "id": "00f99521",
   "metadata": {},
   "outputs": [],
   "source": [
    "Pu = dx.パチンコ参加人口[6:end]\n",
    "Vu = dx.総人口[6:end]\n",
    "year = dx.年[6:end]\n",
    "plot(year,[Pu,Vu])"
   ]
  },
  {
   "cell_type": "code",
   "execution_count": null,
   "id": "9caf83b8",
   "metadata": {},
   "outputs": [],
   "source": [
    "function serial(t; data=data)\n",
    "    #@assert t < length(data) - 1\n",
    "    if t < 1\n",
    "        ff = data[1]\n",
    "        nn = (data[2] - data[1]) * t\n",
    "    else\n",
    "        f = floor(t)\n",
    "        n = t - f\n",
    "        ff = data[ f+1 |> Int]\n",
    "        ffn = f+2 > length(data) ? data[end] : data[(f+2) |> Int]\n",
    "        if n != 0\n",
    "            nn =  (ffn - ff ) * n \n",
    "        else\n",
    "            nn = 0\n",
    "        end\n",
    "    end\n",
    "\n",
    "    return ff+nn\n",
    "end"
   ]
  },
  {
   "cell_type": "code",
   "execution_count": null,
   "id": "67bc7f42",
   "metadata": {},
   "outputs": [],
   "source": [
    "pu_func(t) = serial(t ; data=Pu)\n",
    "vu_func(t) = serial(t ; data=Vu)"
   ]
  },
  {
   "cell_type": "code",
   "execution_count": null,
   "id": "d93c80b8",
   "metadata": {},
   "outputs": [],
   "source": [
    "xs = 0:0.1:length(Pu)-1\n",
    "plot(xs,[pu_func(x) for x =xs],xticks=year)\n",
    "plot!(0:length(Pu)-1,Pu)\n",
    "vline!([2,16])"
   ]
  },
  {
   "cell_type": "markdown",
   "id": "a177ab2e",
   "metadata": {},
   "source": [
    "year"
   ]
  },
  {
   "cell_type": "code",
   "execution_count": null,
   "id": "a27469eb",
   "metadata": {},
   "outputs": [],
   "source": [
    "using Zygote"
   ]
  },
  {
   "cell_type": "code",
   "execution_count": null,
   "id": "ade4f5ea",
   "metadata": {},
   "outputs": [],
   "source": [
    "dvu(τ) = begin\n",
    "    rs = gradient(x->vu_func(x), τ)[1]\n",
    "    if rs == nothing \n",
    "        (dvu(τ + 0.1) + dvu( τ - 0.1))/2\n",
    "    else\n",
    "        rs\n",
    "    end\n",
    "end"
   ]
  },
  {
   "cell_type": "code",
   "execution_count": null,
   "id": "77b2aff6",
   "metadata": {},
   "outputs": [],
   "source": [
    "dvu(16) "
   ]
  },
  {
   "cell_type": "code",
   "execution_count": null,
   "id": "767e0c2d",
   "metadata": {},
   "outputs": [],
   "source": [
    "d_vu =[dvu(t) for t in xs] ;"
   ]
  },
  {
   "cell_type": "code",
   "execution_count": null,
   "id": "bf938680",
   "metadata": {},
   "outputs": [],
   "source": [
    "plot(xs, d_vu)\n"
   ]
  },
  {
   "cell_type": "code",
   "execution_count": null,
   "id": "9ab2a3e1",
   "metadata": {},
   "outputs": [],
   "source": [
    "@variables t P(t) V(t) N(t)\n",
    "@parameters  r e b \n",
    "D = Differential(t)"
   ]
  },
  {
   "cell_type": "code",
   "execution_count": null,
   "id": "7dfb11f2",
   "metadata": {},
   "outputs": [],
   "source": [
    "@register_symbolic pu_func(t)\n",
    "@register_symbolic vu_func(t)\n",
    "@register_symbolic dvu(t)"
   ]
  },
  {
   "cell_type": "markdown",
   "id": "aee8f3df",
   "metadata": {},
   "source": [
    "## このモデルが正しい"
   ]
  },
  {
   "cell_type": "code",
   "execution_count": null,
   "id": "37398e99",
   "metadata": {},
   "outputs": [],
   "source": [
    "eqs = [ D(P) ~ e * ( V - P )  - r * P\n",
    "        D(N) ~ r * P  - e *( V - P) + D(V)\n",
    "        D(V) ~ b\n",
    "        ]"
   ]
  },
  {
   "cell_type": "code",
   "execution_count": null,
   "id": "3b71e2d4",
   "metadata": {},
   "outputs": [],
   "source": [
    "u0 = [P => 7.0 ,N => 10.0, V => 10.0]\n",
    "ps = [b => -0.02, e => 0.25, r=> 0.2]\n",
    "tspan=(0,30.0)\n",
    "@named sys = ODESystem(eqs, t)\n",
    "sys = structural_simplify(sys)"
   ]
  },
  {
   "cell_type": "markdown",
   "id": "9581c1fc",
   "metadata": {},
   "source": []
  },
  {
   "cell_type": "code",
   "execution_count": null,
   "id": "45dde2aa",
   "metadata": {},
   "outputs": [],
   "source": [
    "prob_vs = ODEProblem(sys, u0, tspan, ps)\n",
    "sol = solve(prob_vs)\n",
    "plot(sol)"
   ]
  },
  {
   "cell_type": "code",
   "execution_count": null,
   "id": "567c0410",
   "metadata": {},
   "outputs": [],
   "source": [
    "eqs_v = [  D(P) ~ e * ( V - P )  - r * P\n",
    "           D(N) ~ r * P  - e *( V - P) + D(V)\n",
    "           D(V) ~ dvu(t)\n",
    "        ]"
   ]
  },
  {
   "cell_type": "code",
   "execution_count": null,
   "id": "dd22c7da",
   "metadata": {},
   "outputs": [],
   "source": [
    "@named sysv = ODESystem(eqs_v, t)\n",
    "sysv = structural_simplify(sysv)"
   ]
  },
  {
   "cell_type": "code",
   "execution_count": null,
   "id": "7080b594",
   "metadata": {},
   "outputs": [],
   "source": [
    "u0 = [P => Pu[1] ,N => Vu[1] - Pu[1] , V => Vu[1]]\n",
    "ps = [e => 0.03, r=> 0.4]\n",
    "tspan=(0,length(year)-1)\n",
    "probv = ODEProblem(sysv, u0, tspan, ps)\n",
    "solv = solve(probv)\n",
    "plot(solv, idxs=[P])"
   ]
  },
  {
   "cell_type": "code",
   "execution_count": null,
   "id": "4ecf84a5",
   "metadata": {},
   "outputs": [],
   "source": [
    "rprob=remake(probv ; u0 = [P => Pu[3] ,N => Vu[3] - Pu[3] , V => Vu[3]], p=[e=> 0.05, r=>0.4]) \n",
    "rsolv=solve(rprob, saveat=collect(0:25))\n",
    "plot!(rsolv, idxs=[P])"
   ]
  },
  {
   "cell_type": "code",
   "execution_count": null,
   "id": "e1ce89a6",
   "metadata": {},
   "outputs": [],
   "source": [
    "rsolv.u[2][1]"
   ]
  },
  {
   "cell_type": "code",
   "execution_count": null,
   "id": "182c15a6",
   "metadata": {},
   "outputs": [],
   "source": [
    "using Turing, Distributions"
   ]
  },
  {
   "cell_type": "code",
   "execution_count": null,
   "id": "9764fc6d",
   "metadata": {},
   "outputs": [],
   "source": [
    "@model function findprm(prob, Px, Vx, ts) # findprm(Pu, Vu, probv)\n",
    "    n = length(Px)\n",
    "    entry  ~ truncated(TDist(3), 1e-3, 1 - 1e-3)\n",
    "    retire ~ truncated(TDist(3), 1e-3, 1 - 1e-3 )\n",
    "    s ~ InverseGamma(2,3)\n",
    "    \n",
    "    prob = remake(prob ; \n",
    "            u0= [ P => Px[1], N => Vx[1] - Px[1], V => Vx[1] ],\n",
    "            p = [ e => entry, r => retire],\n",
    "            tspan = ts\n",
    "    )\n",
    "    solv = solve(prob, saveat=collect(ts[1]:ts[end]) )\n",
    "    \n",
    "    for i = 1:n\n",
    "        Px[i] ~ Normal(solv.u[i][1], s) \n",
    "    end\n",
    "    return (; Ps = [])\n",
    "end\n",
    "    "
   ]
  },
  {
   "cell_type": "code",
   "execution_count": null,
   "id": "58239dc0",
   "metadata": {},
   "outputs": [],
   "source": [
    "ts =  (0.0, 25.0 )\n",
    "model = findprm(probv, Pu, Vu, ts)\n",
    "chain = sample(model, NUTS(.64), 2000)"
   ]
  },
  {
   "cell_type": "code",
   "execution_count": null,
   "id": "913cd0d2",
   "metadata": {},
   "outputs": [],
   "source": [
    "rs = get(chain, [:entry, :retire])\n",
    "ts_0 = (; e = rs[:entry]  |> mean　, r = rs[:retire] |> mean)"
   ]
  },
  {
   "cell_type": "code",
   "execution_count": null,
   "id": "5e8c1df4",
   "metadata": {},
   "outputs": [],
   "source": [
    "rsol =solve( remake( probv, p = [e => ts_0.e, r => ts_0.r]) , saveat=collect(ts[1]:ts[end]))\n",
    "plot(rsol, idxs=[P])\n",
    "scatter!(0:ts[2], Pu)"
   ]
  },
  {
   "cell_type": "code",
   "execution_count": null,
   "id": "2f2b1d86",
   "metadata": {},
   "outputs": [],
   "source": [
    "u0 = [P => Pu[1] ,N => Vu[1] - Pu[1] , V => Vu[1]]\n",
    "ps = [e => ts_0.e, r => ts_0.r ]\n",
    "tspan=(0,length(year)-1)\n",
    "event_10 = ( t == 3 ) => [ P ~ P * 0.95 ] \n",
    "event_16 = ( t == 17 ) => [ P ~ P * 0.95 ] \n",
    "@named sys_cata = ODESystem(eqs_v, t, [P,N,V], [e,r] ; discrete_events = [event_10, event_16])\n",
    "sys_cata = structural_simplify(sys_cata) \n",
    "prob_cata = ODEProblem(sys_cata, u0, tspan, ps)\n",
    "sol = solve(prob_cata, saveat=collect(ts[1]:ts[end]), tstops = [3, 17.0])\n",
    "plot(sol, idxs=[P] )\n",
    "scatter!(0:ts[2], Pu)"
   ]
  },
  {
   "cell_type": "code",
   "execution_count": null,
   "id": "58053c84",
   "metadata": {},
   "outputs": [],
   "source": [
    "@model function findprmevent(prob, Px, Vx, ts ) # findprm(Pu, Vu, probv)\n",
    "    n = length(Px)\n",
    "    entry  ~ truncated(TDist(3), 1e-4, 1 - 1e-4)\n",
    "    retire ~ truncated(TDist(3), 1e-4, 1 - 1e-4 )\n",
    "    s ~ InverseGamma(2,3)\n",
    "    \n",
    "    prob = remake( prob ; \n",
    "            u0= [ P => Px[1], N => Vx[1] - Px[1], V => Vx[1] ],\n",
    "            p = [ e => entry, r => retire],\n",
    "            tspan = ts\n",
    "    )\n",
    "    solv = solve(prob ; saveat=collect(ts[1]:ts[end]) , tstops = [3.0, 17.0] )\n",
    "    # t が繰り返される\n",
    "    countlist=collect(1:26) |> t-> [e > 3 ? e + 3 : e for e in t] |> t->[e > 17 ? e + 3 : e for e in t]\n",
    "    countlist[4] -= 1\n",
    "    countlist[17] -= 1\n",
    "    \n",
    "    for (i,e) in enumerate(countlist)\n",
    "        Px[i] ~ Normal(solv.u[e][1], s) \n",
    "    end\n",
    "    return (; Ps = [])\n",
    "end\n",
    "    \n",
    "\n",
    "    "
   ]
  },
  {
   "cell_type": "code",
   "execution_count": null,
   "id": "bd3f0477",
   "metadata": {},
   "outputs": [],
   "source": [
    "ts =  (0.0, 25.0 )\n",
    "model = findprmevent(prob_cata, Pu, Vu, ts)\n",
    "chain = sample(model, NUTS(.64), 2000)"
   ]
  },
  {
   "cell_type": "code",
   "execution_count": null,
   "id": "d4e0a359",
   "metadata": {},
   "outputs": [],
   "source": [
    "rs = get(chain, [:entry, :retire])\n",
    "ec = rs[:entry]  |> mean\n",
    "rc = rs[:retire] |> mean\n",
    "ts_2 = (; e = ec, r = rc)"
   ]
  },
  {
   "cell_type": "code",
   "execution_count": null,
   "id": "0ec2e563",
   "metadata": {},
   "outputs": [],
   "source": [
    "rsol =solve( remake( prob_cata, p = [e => ts_2.e, r => ts_2.r]) ; tstops = [3, 17.0] )\n",
    "plot(rsol, idxs=[P])\n",
    "scatter!(0:ts[2], Pu)"
   ]
  },
  {
   "cell_type": "code",
   "execution_count": null,
   "id": "6ca4efec",
   "metadata": {},
   "outputs": [],
   "source": [
    "u0 = [P => Pu[1] ,N => Vu[1] - Pu[1] , V => Vu[1]]\n",
    "ps = [e => ts_2.e, r => ts_2.r , b => -0.02]\n",
    "tspan=(0, 100)\n",
    "event_10 = (t == 3 ) => [ P ~ P * 0.9 ] \n",
    "event_16 = (t == 17 ) => [ P ~ P * 0.9 ]\n",
    "\n",
    "@named sys_cata = ODESystem(eqs, t, [P,N,V], [e,r,b] ; discrete_events = [event_10, event_16])\n",
    "sys_cata = structural_simplify(sys_cata) \n",
    "prob_cata = ODEProblem(sys_cata, u0, tspan, ps)\n",
    "sol = solve(prob_cata, tstops = [3, 17.0])\n",
    "plot(sol, idxs=[P] )\n",
    "scatter!(0:ts[2], Pu)"
   ]
  },
  {
   "cell_type": "code",
   "execution_count": null,
   "id": "bc62976a",
   "metadata": {},
   "outputs": [],
   "source": [
    "sol"
   ]
  },
  {
   "cell_type": "code",
   "execution_count": null,
   "id": "10523eb7",
   "metadata": {},
   "outputs": [],
   "source": [
    "plot(Vu)"
   ]
  },
  {
   "cell_type": "code",
   "execution_count": null,
   "id": "0b2c9b67",
   "metadata": {},
   "outputs": [],
   "source": [
    "plot(0:25,Pu,legend=false)\n",
    "plot!(0:2, Pu[1:3],fill=(:orange, 0))\n",
    "plot!(2:16,Pu[3:17],fill=(:green, 0))\n",
    "plot!(16:25, Pu[17:26],fill=(:skyblue, 0))\n",
    "vline!([2,16])"
   ]
  },
  {
   "cell_type": "code",
   "execution_count": null,
   "id": "ee8b7d81",
   "metadata": {},
   "outputs": [],
   "source": [
    "model = findprm(probv,Pu[1:3], Vu[1:3], (0,2) )\n",
    "chain = sample(model, NUTS(), 2000)"
   ]
  },
  {
   "cell_type": "code",
   "execution_count": null,
   "id": "ad415189",
   "metadata": {},
   "outputs": [],
   "source": [
    "rs = get(chain, [:entry, :retire])\n",
    "ec = rs[:entry] |> mean\n",
    "rc = rs[:retire] |> mean\n",
    "ts_1 = (; e=ec, r=rc)"
   ]
  },
  {
   "cell_type": "code",
   "execution_count": null,
   "id": "05f77061",
   "metadata": {},
   "outputs": [],
   "source": [
    "plot(0:25,Pu,legend=false)\n",
    "plot!(0:2, Pu[1:3],fill=(:white, 0))\n",
    "plot!(2:16,Pu[3:17],fill=(:green, 0))\n",
    "plot!(16:25, Pu[17:26],fill=(:white, 0))\n",
    "vline!([2,16])"
   ]
  },
  {
   "cell_type": "code",
   "execution_count": null,
   "id": "9ec66f27",
   "metadata": {},
   "outputs": [],
   "source": [
    "ts = (2,16)\n",
    "model = findprm(probv,Pu[3:17], Vu[3:17], ts)\n",
    "chain = sample(model, NUTS(), 2000)"
   ]
  },
  {
   "cell_type": "code",
   "execution_count": null,
   "id": "82a942de",
   "metadata": {},
   "outputs": [],
   "source": [
    "rs = get(chain, [:entry, :retire])\n",
    "ec = rs[:entry] |> mean\n",
    "rc = rs[:retire] |> mean\n",
    "ts_2 = (; e=ec, r=rc)"
   ]
  },
  {
   "cell_type": "code",
   "execution_count": null,
   "id": "ef2b6eac",
   "metadata": {},
   "outputs": [],
   "source": [
    "utest = [ P => Pu[3], V => Vu[3], N => Pu[3]+Vu[3] ]\n",
    "ptest = [ e => ts_2.e, r => ts_2.r ]\n",
    "ttest = (2,16)\n",
    "tsolv = remake(probv, u0=utest, p=ptest, tspan=ttest ) |> solve\n",
    "plot(2:16, Pu[3:17])\n",
    "plot!(tsolv, idxs=[P])"
   ]
  },
  {
   "cell_type": "code",
   "execution_count": null,
   "id": "f1fb76b2",
   "metadata": {},
   "outputs": [],
   "source": [
    "plot(0:25,Pu,legend=false)\n",
    "plot!(0:2, Pu[1:3],fill=(:white, 0))\n",
    "plot!(2:16,Pu[3:17],fill=(:white, 0))\n",
    "plot!(16:25, Pu[17:26],fill=(:skyblue, 0))\n",
    "vline!([2,16])"
   ]
  },
  {
   "cell_type": "code",
   "execution_count": null,
   "id": "6aff4ff2",
   "metadata": {},
   "outputs": [],
   "source": [
    "model = findprm(probv,Pu[17:26], Vu[17:26], (16,25) )\n",
    "chain = sample(model, NUTS(), 2000)"
   ]
  },
  {
   "cell_type": "code",
   "execution_count": null,
   "id": "e5d8b169",
   "metadata": {},
   "outputs": [],
   "source": [
    "rs = get(chain, [:entry, :retire])\n",
    "ec = rs[:entry] |> mean\n",
    "rc = rs[:retire] |> mean\n",
    "ts_3 = (; e=ec, r=rc)"
   ]
  },
  {
   "cell_type": "code",
   "execution_count": null,
   "id": "959ac90d",
   "metadata": {},
   "outputs": [],
   "source": [
    "utest = [ P => Pu[17], V => Vu[17], N => Pu[17]+Vu[17] ]\n",
    "ptest = [ e => ts_3.e, r => ts_3.r ]\n",
    "ttest = (16,25)\n",
    "tsolv = remake(probv, u0=utest, p=ptest, tspan=ttest) |> solve\n",
    "plot(16:25, Pu[17:26])\n",
    "plot!(tsolv, idxs=[P])"
   ]
  },
  {
   "cell_type": "code",
   "execution_count": null,
   "id": "f63e74bf",
   "metadata": {},
   "outputs": [],
   "source": [
    "u0 = [P => Pu[1] , N => Vu[1] - Pu[1] , V => Vu[1]]\n",
    "ps = [e => ts_1.e, r => ts_1.r ]\n",
    "tspan=(0,25)\n",
    "\n",
    "inverse_func  = [ (t >  2.0 ) =>  [ e ~ ts_2.e, r ~ ts_2.r] ,\n",
    "                  (t > 16.0 ) =>  [ e ~ ts_3.e, r ~ ts_3.r] ]\n",
    "\n",
    "@named syv = ODESystem(eqs_v, t ;  discrete_events = inverse_func )\n",
    "syv = structural_simplify(syv)"
   ]
  },
  {
   "cell_type": "code",
   "execution_count": null,
   "id": "8750dd47",
   "metadata": {},
   "outputs": [],
   "source": [
    "prob_cr = ODEProblem(syv, u0, tspan, ps)\n",
    "solcr = solve(prob_cr);\n",
    "plot(solcr, idxs=[P])\n",
    "plot!(0:tspan[2],Pu,label=\"Observed\")\n",
    "vline!([2,16], \n",
    "label=\"1996 & 2011\")"
   ]
  },
  {
   "cell_type": "code",
   "execution_count": null,
   "id": "c825c698",
   "metadata": {},
   "outputs": [],
   "source": [
    "noize = [0.05*P, 0.05*V, 0.05*N]"
   ]
  },
  {
   "cell_type": "code",
   "execution_count": null,
   "id": "497b35aa",
   "metadata": {},
   "outputs": [],
   "source": [
    "#@named de = SDESystem(eqs_v, noize, t, [P,N, V], [e,r]; tspan=tspan)\n",
    "@named de = SDESystem(sysv, noize)"
   ]
  },
  {
   "cell_type": "code",
   "execution_count": null,
   "id": "56b8f633",
   "metadata": {},
   "outputs": [],
   "source": [
    "u0 = [P => Pu[1] ,N => Vu[1] - Pu[1] , V => Vu[1]]\n",
    "ps = [e => ts_1.e, r => ts_1.r ]\n",
    "tspan=(0,length(year)-1)"
   ]
  },
  {
   "cell_type": "code",
   "execution_count": null,
   "id": "624396c0",
   "metadata": {},
   "outputs": [],
   "source": [
    "probe = SDEProblem(de, u0, tspan, ps)"
   ]
  },
  {
   "cell_type": "code",
   "execution_count": null,
   "id": "4420539c",
   "metadata": {},
   "outputs": [],
   "source": [
    "sole = solve(probe);\n",
    "plot(sole,idxs=[P])\n",
    "plot!(0:tspan[2],Pu)"
   ]
  },
  {
   "cell_type": "code",
   "execution_count": null,
   "id": "518b71b1",
   "metadata": {},
   "outputs": [],
   "source": [
    "eqs_v"
   ]
  },
  {
   "cell_type": "code",
   "execution_count": null,
   "id": "e5a7d4ae",
   "metadata": {},
   "outputs": [],
   "source": [
    "catastrophe = [ [t ~  3.0]  =>  [ P ~ 0.8 * P ] \n",
    "                [t ~ 16.0]  =>  [ P ~ 0.9 * P ] ]\n",
    "\n",
    "@named sys_cata = ODESystem(eqs_v, t ;  \n",
    "       # discrete_events = catastrophe, \n",
    "        continuous_events = catastrophe )\n",
    "sys_cata = structural_simplify(sys_cata)"
   ]
  },
  {
   "cell_type": "code",
   "execution_count": null,
   "id": "5915a0d7",
   "metadata": {},
   "outputs": [],
   "source": [
    "u0 = [P => Pu[1] ,N => Vu[1] - Pu[1] , V => Vu[1]]\n",
    "ps = [e => 0.03, r => 0.04 ]\n",
    "tspan=(0,length(year)-1)\n",
    "prob_cata = ODEProblem(sys_cata, u0, tspan, ps)"
   ]
  },
  {
   "cell_type": "code",
   "execution_count": null,
   "id": "fe24b8a0",
   "metadata": {},
   "outputs": [],
   "source": [
    "solc = solve(prob_cata);\n",
    "plot(solc,idxs=[P])\n",
    "plot!(0:tspan[2],Pu)\n",
    "plot!(solv, idxs=[P])"
   ]
  },
  {
   "cell_type": "code",
   "execution_count": null,
   "id": "1fc640be",
   "metadata": {},
   "outputs": [],
   "source": [
    "model = findprm(prob_cata, Pu, Vu, (0,25) )\n",
    "c_cata = sample(model, NUTS(), 2000)"
   ]
  },
  {
   "cell_type": "code",
   "execution_count": null,
   "id": "343036a2",
   "metadata": {},
   "outputs": [],
   "source": [
    "rs = get(c_chain, [:entry, :retire])\n",
    "ec = rs[:entry] |> mean\n",
    "rc = rs[:retire] |> mean\n",
    "ts_ct = (; e=ec, r=rc)"
   ]
  },
  {
   "cell_type": "code",
   "execution_count": null,
   "id": "635aaee2",
   "metadata": {},
   "outputs": [],
   "source": [
    "utest = [ P => Pu[1], V => Vu[1], N => Pu[1]+Vu[1] ]\n",
    "ptest = [ e => ts_ct.e, r => ts_ct.r ]\n",
    "ttest = (0,25)\n",
    "tsolv = remake(prob_ct, u0=utest, p=ptest, tspan=ttest) |> solve\n",
    "plot(0:25, Pu)\n",
    "plot!(tsolv, idxs=[P])"
   ]
  },
  {
   "cell_type": "code",
   "execution_count": null,
   "id": "814bf301",
   "metadata": {},
   "outputs": [],
   "source": [
    "ts_3"
   ]
  },
  {
   "cell_type": "markdown",
   "id": "1fe18118",
   "metadata": {},
   "source": [
    "カタストロフィーに対して行動の変化が持続的である前提となっている。\n",
    "もしかするとカタストロフィーイベントによってボリュームが一度に離脱したかもしれない"
   ]
  },
  {
   "cell_type": "code",
   "execution_count": null,
   "id": "2aedafc2",
   "metadata": {},
   "outputs": [],
   "source": []
  }
 ],
 "metadata": {
  "kernelspec": {
   "display_name": "Julia 1.9.3",
   "language": "julia",
   "name": "julia-1.9"
  },
  "language_info": {
   "file_extension": ".jl",
   "mimetype": "application/julia",
   "name": "julia",
   "version": "1.9.3"
  }
 },
 "nbformat": 4,
 "nbformat_minor": 5
}
